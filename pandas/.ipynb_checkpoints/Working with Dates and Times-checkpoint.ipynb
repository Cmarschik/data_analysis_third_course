{
 "cells": [
  {
   "cell_type": "code",
   "execution_count": 3,
   "metadata": {},
   "outputs": [],
   "source": [
    "import pandas as pd\n",
    "import datetime as dt"
   ]
  },
  {
   "cell_type": "markdown",
   "metadata": {},
   "source": [
    "# Review of Python's datetime Module"
   ]
  },
  {
   "cell_type": "code",
   "execution_count": 20,
   "metadata": {},
   "outputs": [
    {
     "data": {
      "text/plain": [
       "'2018-09-14'"
      ]
     },
     "execution_count": 20,
     "metadata": {},
     "output_type": "execute_result"
    }
   ],
   "source": [
    "someday = dt.date(2018, 9, 14) #expects year, month, and day to create a date object\n",
    "str(someday) # returns it as string"
   ]
  },
  {
   "cell_type": "code",
   "execution_count": 9,
   "metadata": {},
   "outputs": [
    {
     "data": {
      "text/plain": [
       "14"
      ]
     },
     "execution_count": 9,
     "metadata": {},
     "output_type": "execute_result"
    }
   ],
   "source": [
    "someday.year # returns attribute year\n",
    "someday.month # returns attribute month\n",
    "someday.day #returns attribute day"
   ]
  },
  {
   "cell_type": "code",
   "execution_count": 22,
   "metadata": {},
   "outputs": [
    {
     "data": {
      "text/plain": [
       "'2018-09-14 08:30:45'"
      ]
     },
     "execution_count": 22,
     "metadata": {},
     "output_type": "execute_result"
    }
   ],
   "source": [
    "sometime = dt.datetime(2018, 9, 14, 8, 30, 45) # execpts same arguments as date (but also can take times - default time is midnight if none is given)\n",
    "                        # year, month, day, hour, minute, second\n",
    "str(sometime) # returns it as a string"
   ]
  },
  {
   "cell_type": "code",
   "execution_count": 25,
   "metadata": {},
   "outputs": [
    {
     "data": {
      "text/plain": [
       "45"
      ]
     },
     "execution_count": 25,
     "metadata": {},
     "output_type": "execute_result"
    }
   ],
   "source": [
    "sometime.year\n",
    "sometime.month\n",
    "sometime.day\n",
    "sometime.hour\n",
    "sometime.minute\n",
    "sometime.second\n",
    "# ^ all used with datetime"
   ]
  },
  {
   "cell_type": "markdown",
   "metadata": {},
   "source": [
    "# The pandas Timestamp Object"
   ]
  },
  {
   "cell_type": "code",
   "execution_count": 45,
   "metadata": {},
   "outputs": [
    {
     "data": {
      "text/plain": [
       "Timestamp('2018-04-13 15:34:23')"
      ]
     },
     "execution_count": 45,
     "metadata": {},
     "output_type": "execute_result"
    }
   ],
   "source": [
    "pd.Timestamp(\"2015-03-31\") #accepts same inputs as python datetime object\n",
    "pd.Timestamp(\"2015/03/31\")\n",
    "pd.Timestamp(\"2013, 2, 23\")\n",
    "pd.Timestamp(\"1/4/2018\")\n",
    "pd.Timestamp(\"19/12/2019\")\n",
    "pd.Timestamp(\"11/11/2019\") # if numbers are less than 12, pd won't know if it's month or days\n",
    "pd.Timestamp(\"2021-03-08 13:35:08\") #generates date with time\n",
    "pd.Timestamp(\"2018-4-13 3:34:23 PM\")"
   ]
  },
  {
   "cell_type": "code",
   "execution_count": 46,
   "metadata": {},
   "outputs": [
    {
     "data": {
      "text/plain": [
       "Timestamp('2015-01-01 00:00:00')"
      ]
     },
     "execution_count": 46,
     "metadata": {},
     "output_type": "execute_result"
    }
   ],
   "source": [
    "pd.Timestamp(dt.date(2015, 1, 1)) # creates a pd Timestamp from a python(dt) date object"
   ]
  },
  {
   "cell_type": "code",
   "execution_count": 47,
   "metadata": {},
   "outputs": [
    {
     "data": {
      "text/plain": [
       "Timestamp('2018-02-03 13:35:24')"
      ]
     },
     "execution_count": 47,
     "metadata": {},
     "output_type": "execute_result"
    }
   ],
   "source": [
    "pd.Timestamp(dt.datetime(2018, 2, 3, 13, 35, 24)) #creates a pd Timestamp from a python(dt) datetime object"
   ]
  },
  {
   "cell_type": "markdown",
   "metadata": {},
   "source": [
    "# The pandas DatetimeIndex Object"
   ]
  },
  {
   "cell_type": "code",
   "execution_count": 55,
   "metadata": {},
   "outputs": [
    {
     "data": {
      "text/plain": [
       "DatetimeIndex(['2016-01-02', '2016-04-12', '2007-09-07'], dtype='datetime64[ns]', freq=None)"
      ]
     },
     "execution_count": 55,
     "metadata": {},
     "output_type": "execute_result"
    }
   ],
   "source": [
    "dates = [\"2016/01/02\", \"2016/04/12\", \"2007/09/07\"]\n",
    "pd.DatetimeIndex(dates) # converts strings in to pandas teimstamps and stores them into a new DateTimeIndex object"
   ]
  },
  {
   "cell_type": "code",
   "execution_count": 59,
   "metadata": {},
   "outputs": [],
   "source": [
    "dates = [dt.date(2016, 1, 1), dt.date(1994, 6, 13), dt.date(2003, 12, 29)]\n",
    "dtIndex = pd.DatetimeIndex(dates) # works with list of python date objects (converts them into datetime objects)"
   ]
  },
  {
   "cell_type": "code",
   "execution_count": 60,
   "metadata": {},
   "outputs": [
    {
     "data": {
      "text/plain": [
       "2016-01-01    100\n",
       "1994-06-13    200\n",
       "2003-12-29    300\n",
       "dtype: int64"
      ]
     },
     "execution_count": 60,
     "metadata": {},
     "output_type": "execute_result"
    }
   ],
   "source": [
    "values = [100, 200, 300]\n",
    "pd.Series(data = values, index = dtIndex)# creates a Series with arbitrary values we created and the index is our above-created index"
   ]
  },
  {
   "cell_type": "markdown",
   "metadata": {},
   "source": [
    "# The pd.to_datetime() Method"
   ]
  },
  {
   "cell_type": "code",
   "execution_count": null,
   "metadata": {},
   "outputs": [],
   "source": [
    "# converts to timestamp or DateTimeIndex(for multiple)"
   ]
  },
  {
   "cell_type": "code",
   "execution_count": 64,
   "metadata": {},
   "outputs": [
    {
     "data": {
      "text/plain": [
       "DatetimeIndex(['2019-01-23', '2018-03-29', '2018-01-01', '1996-07-04'], dtype='datetime64[ns]', freq=None)"
      ]
     },
     "execution_count": 64,
     "metadata": {},
     "output_type": "execute_result"
    }
   ],
   "source": [
    "pd.to_datetime([\"2001-04-19\"])\n",
    "pd.to_datetime(dt.date(2019, 1, 3))\n",
    "pd.to_datetime(dt.datetime(2019, 1, 3, 14, 32, 20))\n",
    "pd.to_datetime([\"2019/01/23\", \"2018-03-29\", \"2018\", \"July 4th, 1996\"])"
   ]
  },
  {
   "cell_type": "code",
   "execution_count": 69,
   "metadata": {},
   "outputs": [
    {
     "data": {
      "text/plain": [
       "0        2019/01/23\n",
       "1        2018-03-29\n",
       "2              2018\n",
       "3    July 4th, 1996\n",
       "dtype: object"
      ]
     },
     "execution_count": 69,
     "metadata": {},
     "output_type": "execute_result"
    }
   ],
   "source": [
    "times = pd.Series([\"2019/01/23\", \"2018-03-29\", \"2018\", \"July 4th, 1996\"])\n",
    "times"
   ]
  },
  {
   "cell_type": "code",
   "execution_count": 71,
   "metadata": {},
   "outputs": [
    {
     "data": {
      "text/plain": [
       "0   2019-01-23\n",
       "1   2018-03-29\n",
       "2   2018-01-01\n",
       "3   1996-07-04\n",
       "dtype: datetime64[ns]"
      ]
     },
     "execution_count": 71,
     "metadata": {},
     "output_type": "execute_result"
    }
   ],
   "source": [
    "pd.to_datetime(times) # converts the times series as a datetime"
   ]
  },
  {
   "cell_type": "code",
   "execution_count": 73,
   "metadata": {},
   "outputs": [],
   "source": [
    "dates = pd.Series([\"July 4th, 1996\", \"10/04/1991\", \"Hello\", \"2015-02-31\"])"
   ]
  },
  {
   "cell_type": "code",
   "execution_count": 75,
   "metadata": {},
   "outputs": [
    {
     "data": {
      "text/plain": [
       "0   1996-07-04\n",
       "1   1991-10-04\n",
       "2          NaT\n",
       "3          NaT\n",
       "dtype: datetime64[ns]"
      ]
     },
     "execution_count": 75,
     "metadata": {},
     "output_type": "execute_result"
    }
   ],
   "source": [
    "pd.to_datetime(dates, errors = \"coerce\") # cannot proccess \"Hello\" or February 31st(bc it does not exist)\n",
    "                        # 'errors' parameter defaults to 'raise'\n",
    "                        # ^ \"coerce\" forces all other values as NaT(null)"
   ]
  },
  {
   "cell_type": "code",
   "execution_count": 76,
   "metadata": {},
   "outputs": [
    {
     "data": {
      "text/plain": [
       "DatetimeIndex(['2012-10-08 18:15:05', '2012-10-09 18:15:05',\n",
       "               '2012-10-10 18:15:05', '2012-10-11 18:15:05',\n",
       "               '2012-10-12 18:15:05'],\n",
       "              dtype='datetime64[ns]', freq=None)"
      ]
     },
     "execution_count": 76,
     "metadata": {},
     "output_type": "execute_result"
    }
   ],
   "source": [
    "pd.to_datetime([1349720105, 1349806505, 1349892905,\n",
    "                1349979305, 1350065705], unit = \"s\") # unix datetime: seconds since January 1st, 1970 @ midnight\n",
    "                                                    # use unit = \"s\" for seconds/datetime"
   ]
  },
  {
   "cell_type": "markdown",
   "metadata": {},
   "source": [
    "# Create Range of Dates with the pd.date_range() Method, part 1"
   ]
  },
  {
   "cell_type": "code",
   "execution_count": 106,
   "metadata": {},
   "outputs": [],
   "source": [
    "times = pd.date_range(start = \"2016-01-01\", end = \"2016-01-10\", freq = \"D\") # requires two of the three start, end, and period methods\n",
    "                                                        # frequency parameter defaults to \"(n)D\" for days as the interval \n",
    "                                                        # ^ \"B\" is business days\n",
    "                                                        # ^^ \"W\" is week(defaults to W-SUN: 1 sunday per week)\n",
    "                                                        # ^^^ \"H\" is hour\n",
    "                                                        # ^^^^ \"M\" is month(end)\n",
    "                                                        # ^ \"MS\" is month start\n",
    "                                                        # ^^^^^ \"A\" is year/annual(end)\n",
    "                                                        # ^ \"AS\" is year/annual start"
   ]
  },
  {
   "cell_type": "code",
   "execution_count": 107,
   "metadata": {},
   "outputs": [
    {
     "data": {
      "text/plain": [
       "pandas.core.indexes.datetimes.DatetimeIndex"
      ]
     },
     "execution_count": 107,
     "metadata": {},
     "output_type": "execute_result"
    }
   ],
   "source": [
    "type(times)"
   ]
  },
  {
   "cell_type": "code",
   "execution_count": 108,
   "metadata": {},
   "outputs": [
    {
     "data": {
      "text/plain": [
       "Timestamp('2016-01-01 00:00:00', freq='D')"
      ]
     },
     "execution_count": 108,
     "metadata": {},
     "output_type": "execute_result"
    }
   ],
   "source": [
    "times[0]"
   ]
  },
  {
   "cell_type": "code",
   "execution_count": 109,
   "metadata": {},
   "outputs": [
    {
     "data": {
      "text/plain": [
       "DatetimeIndex(['2016-01-01', '2017-01-01', '2018-01-01', '2019-01-01',\n",
       "               '2020-01-01', '2021-01-01', '2022-01-01', '2023-01-01',\n",
       "               '2024-01-01', '2025-01-01', '2026-01-01', '2027-01-01',\n",
       "               '2028-01-01', '2029-01-01', '2030-01-01', '2031-01-01',\n",
       "               '2032-01-01', '2033-01-01', '2034-01-01', '2035-01-01',\n",
       "               '2036-01-01', '2037-01-01', '2038-01-01', '2039-01-01',\n",
       "               '2040-01-01', '2041-01-01', '2042-01-01', '2043-01-01',\n",
       "               '2044-01-01', '2045-01-01', '2046-01-01', '2047-01-01',\n",
       "               '2048-01-01', '2049-01-01', '2050-01-01'],\n",
       "              dtype='datetime64[ns]', freq='AS-JAN')"
      ]
     },
     "execution_count": 109,
     "metadata": {},
     "output_type": "execute_result"
    }
   ],
   "source": [
    "pd.date_range(start = \"2016-01-01\", end = \"2050-01-01\", freq = \"AS\")"
   ]
  },
  {
   "cell_type": "markdown",
   "metadata": {},
   "source": [
    "# Create Range of Dates with the pd.date_range() Method, part 2"
   ]
  },
  {
   "cell_type": "code",
   "execution_count": 146,
   "metadata": {},
   "outputs": [
    {
     "data": {
      "text/plain": [
       "DatetimeIndex(['2012-09-09 00:00:00', '2012-09-09 07:00:00',\n",
       "               '2012-09-09 14:00:00', '2012-09-09 21:00:00',\n",
       "               '2012-09-10 04:00:00', '2012-09-10 11:00:00',\n",
       "               '2012-09-10 18:00:00', '2012-09-11 01:00:00',\n",
       "               '2012-09-11 08:00:00', '2012-09-11 15:00:00',\n",
       "               '2012-09-11 22:00:00', '2012-09-12 05:00:00',\n",
       "               '2012-09-12 12:00:00', '2012-09-12 19:00:00',\n",
       "               '2012-09-13 02:00:00', '2012-09-13 09:00:00',\n",
       "               '2012-09-13 16:00:00', '2012-09-13 23:00:00',\n",
       "               '2012-09-14 06:00:00', '2012-09-14 13:00:00'],\n",
       "              dtype='datetime64[ns]', freq='7H')"
      ]
     },
     "execution_count": 146,
     "metadata": {},
     "output_type": "execute_result"
    }
   ],
   "source": [
    "pd.date_range(\"2012-09-09\", periods = 20, freq = \"7H\") # periods represent the number of results we want returned"
   ]
  },
  {
   "cell_type": "markdown",
   "metadata": {},
   "source": [
    "# Create Range of Dates with the pd.date_range() Method, part 3"
   ]
  },
  {
   "cell_type": "code",
   "execution_count": 141,
   "metadata": {},
   "outputs": [
    {
     "data": {
      "text/plain": [
       "DatetimeIndex(['1997-10-31', '1997-11-15', '1997-11-30', '1997-12-15',\n",
       "               '1997-12-31', '1998-01-15', '1998-01-31', '1998-02-15',\n",
       "               '1998-02-28', '1998-03-15', '1998-03-31', '1998-04-15',\n",
       "               '1998-04-30', '1998-05-15', '1998-05-31', '1998-06-15',\n",
       "               '1998-06-30', '1998-07-15', '1998-07-31', '1998-08-15',\n",
       "               '1998-08-31', '1998-09-15', '1998-09-30', '1998-10-15',\n",
       "               '1998-10-31', '1998-11-15', '1998-11-30', '1998-12-15',\n",
       "               '1998-12-31', '1999-01-15', '1999-01-31', '1999-02-15',\n",
       "               '1999-02-28', '1999-03-15', '1999-03-31', '1999-04-15',\n",
       "               '1999-04-30', '1999-05-15', '1999-05-31', '1999-06-15',\n",
       "               '1999-06-30', '1999-07-15', '1999-07-31', '1999-08-15',\n",
       "               '1999-08-31', '1999-09-15', '1999-09-30', '1999-10-15',\n",
       "               '1999-10-31', '1999-11-15', '1999-11-30', '1999-12-15',\n",
       "               '1999-12-31'],\n",
       "              dtype='datetime64[ns]', freq='SM-15')"
      ]
     },
     "execution_count": 141,
     "metadata": {},
     "output_type": "execute_result"
    }
   ],
   "source": [
    "pd.date_range(end = \"1999-12-31\", periods = 53, freq = \"SM\") # returns a given number (periods) of results proceeding the \"end\" date"
   ]
  },
  {
   "cell_type": "code",
   "execution_count": 144,
   "metadata": {},
   "outputs": [
    {
     "data": {
      "text/plain": [
       "DatetimeIndex(['1999-01-01 00:00:00', '2004-01-01 06:00:00',\n",
       "               '2008-12-31 12:00:00', '2013-12-31 18:00:00',\n",
       "               '2019-01-01 00:00:00'],\n",
       "              dtype='datetime64[ns]', freq=None)"
      ]
     },
     "execution_count": 144,
     "metadata": {},
     "output_type": "execute_result"
    }
   ],
   "source": [
    "pd.date_range(end = \"2019-01-01\", start = \"1999-01-01\", periods = 5) #using all three 'end', 'start', & 'period' is possible"
   ]
  },
  {
   "cell_type": "markdown",
   "metadata": {},
   "source": [
    "# The .dt Accessor"
   ]
  },
  {
   "cell_type": "code",
   "execution_count": 147,
   "metadata": {},
   "outputs": [],
   "source": [
    "# used like the .str accessor to access Series(or DataFrame) info if they are datetime objects"
   ]
  },
  {
   "cell_type": "code",
   "execution_count": 150,
   "metadata": {},
   "outputs": [],
   "source": [
    "bunch_of_dates = pd.date_range(start = \"2000-01-01\", end = \"2010-12-31\", freq = \"24D\")"
   ]
  },
  {
   "cell_type": "code",
   "execution_count": 152,
   "metadata": {},
   "outputs": [],
   "source": [
    "s = pd.Series(bunch_of_dates)"
   ]
  },
  {
   "cell_type": "code",
   "execution_count": 153,
   "metadata": {},
   "outputs": [
    {
     "data": {
      "text/plain": [
       "0   2000-01-01\n",
       "1   2000-01-25\n",
       "2   2000-02-18\n",
       "dtype: datetime64[ns]"
      ]
     },
     "execution_count": 153,
     "metadata": {},
     "output_type": "execute_result"
    }
   ],
   "source": [
    "s.head(3)"
   ]
  },
  {
   "cell_type": "code",
   "execution_count": 156,
   "metadata": {
    "collapsed": true
   },
   "outputs": [
    {
     "data": {
      "text/plain": [
       "0       Saturday\n",
       "1        Tuesday\n",
       "2         Friday\n",
       "3         Monday\n",
       "4       Thursday\n",
       "5         Sunday\n",
       "6      Wednesday\n",
       "7       Saturday\n",
       "8        Tuesday\n",
       "9         Friday\n",
       "10        Monday\n",
       "11      Thursday\n",
       "12        Sunday\n",
       "13     Wednesday\n",
       "14      Saturday\n",
       "15       Tuesday\n",
       "16        Friday\n",
       "17        Monday\n",
       "18      Thursday\n",
       "19        Sunday\n",
       "20     Wednesday\n",
       "21      Saturday\n",
       "22       Tuesday\n",
       "23        Friday\n",
       "24        Monday\n",
       "25      Thursday\n",
       "26        Sunday\n",
       "27     Wednesday\n",
       "28      Saturday\n",
       "29       Tuesday\n",
       "         ...    \n",
       "138       Sunday\n",
       "139    Wednesday\n",
       "140     Saturday\n",
       "141      Tuesday\n",
       "142       Friday\n",
       "143       Monday\n",
       "144     Thursday\n",
       "145       Sunday\n",
       "146    Wednesday\n",
       "147     Saturday\n",
       "148      Tuesday\n",
       "149       Friday\n",
       "150       Monday\n",
       "151     Thursday\n",
       "152       Sunday\n",
       "153    Wednesday\n",
       "154     Saturday\n",
       "155      Tuesday\n",
       "156       Friday\n",
       "157       Monday\n",
       "158     Thursday\n",
       "159       Sunday\n",
       "160    Wednesday\n",
       "161     Saturday\n",
       "162      Tuesday\n",
       "163       Friday\n",
       "164       Monday\n",
       "165     Thursday\n",
       "166       Sunday\n",
       "167    Wednesday\n",
       "Length: 168, dtype: object"
      ]
     },
     "execution_count": 156,
     "metadata": {},
     "output_type": "execute_result"
    }
   ],
   "source": [
    "s.dt.day # returns the day number\n",
    "s.dt.month # returns the month number\n",
    "s.dt.weekday_name # returns day of week day represented by each index value"
   ]
  },
  {
   "cell_type": "code",
   "execution_count": 164,
   "metadata": {},
   "outputs": [
    {
     "data": {
      "text/plain": [
       "0     2000-01-01\n",
       "19    2001-04-01\n",
       "38    2002-07-01\n",
       "137   2009-01-01\n",
       "dtype: datetime64[ns]"
      ]
     },
     "execution_count": 164,
     "metadata": {},
     "output_type": "execute_result"
    }
   ],
   "source": [
    "mask = s.dt.is_quarter_start   # returns a boolean; True if day is start of a ____\n",
    "s[mask]"
   ]
  },
  {
   "cell_type": "markdown",
   "metadata": {},
   "source": [
    "# Import Financial DataSet with pandas_datareader Library"
   ]
  },
  {
   "cell_type": "code",
   "execution_count": 5,
   "metadata": {},
   "outputs": [],
   "source": [
    "import pandas as pd\n",
    "import datetime as dt\n",
    "from pandas_datareader import data"
   ]
  },
  {
   "cell_type": "code",
   "execution_count": 21,
   "metadata": {},
   "outputs": [],
   "source": [
    "company = \"MSFT\"\n",
    "start = \"2016-01-01\"\n",
    "end = \"2019-12-31\"\n",
    "stocks = data.DataReader(name = company, data_source = \"yahoo\", start = start, end = end) "
   ]
  },
  {
   "cell_type": "code",
   "execution_count": 22,
   "metadata": {},
   "outputs": [
    {
     "data": {
      "text/html": [
       "<div>\n",
       "<style scoped>\n",
       "    .dataframe tbody tr th:only-of-type {\n",
       "        vertical-align: middle;\n",
       "    }\n",
       "\n",
       "    .dataframe tbody tr th {\n",
       "        vertical-align: top;\n",
       "    }\n",
       "\n",
       "    .dataframe thead th {\n",
       "        text-align: right;\n",
       "    }\n",
       "</style>\n",
       "<table border=\"1\" class=\"dataframe\">\n",
       "  <thead>\n",
       "    <tr style=\"text-align: right;\">\n",
       "      <th></th>\n",
       "      <th>High</th>\n",
       "      <th>Low</th>\n",
       "      <th>Open</th>\n",
       "      <th>Close</th>\n",
       "      <th>Volume</th>\n",
       "      <th>Adj Close</th>\n",
       "    </tr>\n",
       "    <tr>\n",
       "      <th>Date</th>\n",
       "      <th></th>\n",
       "      <th></th>\n",
       "      <th></th>\n",
       "      <th></th>\n",
       "      <th></th>\n",
       "      <th></th>\n",
       "    </tr>\n",
       "  </thead>\n",
       "  <tbody>\n",
       "    <tr>\n",
       "      <th>2016-01-04</th>\n",
       "      <td>54.799999</td>\n",
       "      <td>53.389999</td>\n",
       "      <td>54.32</td>\n",
       "      <td>54.799999</td>\n",
       "      <td>53778000.0</td>\n",
       "      <td>50.877312</td>\n",
       "    </tr>\n",
       "    <tr>\n",
       "      <th>2016-01-05</th>\n",
       "      <td>55.389999</td>\n",
       "      <td>54.540001</td>\n",
       "      <td>54.93</td>\n",
       "      <td>55.049999</td>\n",
       "      <td>34079700.0</td>\n",
       "      <td>51.109421</td>\n",
       "    </tr>\n",
       "    <tr>\n",
       "      <th>2016-01-06</th>\n",
       "      <td>54.400002</td>\n",
       "      <td>53.639999</td>\n",
       "      <td>54.32</td>\n",
       "      <td>54.049999</td>\n",
       "      <td>39518900.0</td>\n",
       "      <td>50.181000</td>\n",
       "    </tr>\n",
       "  </tbody>\n",
       "</table>\n",
       "</div>"
      ],
      "text/plain": [
       "                 High        Low   Open      Close      Volume  Adj Close\n",
       "Date                                                                     \n",
       "2016-01-04  54.799999  53.389999  54.32  54.799999  53778000.0  50.877312\n",
       "2016-01-05  55.389999  54.540001  54.93  55.049999  34079700.0  51.109421\n",
       "2016-01-06  54.400002  53.639999  54.32  54.049999  39518900.0  50.181000"
      ]
     },
     "execution_count": 22,
     "metadata": {},
     "output_type": "execute_result"
    }
   ],
   "source": [
    "stocks.head(3)"
   ]
  },
  {
   "cell_type": "code",
   "execution_count": 23,
   "metadata": {},
   "outputs": [
    {
     "data": {
      "text/plain": [
       "[DatetimeIndex(['2016-01-04', '2016-01-05', '2016-01-06', '2016-01-07',\n",
       "                '2016-01-08', '2016-01-11', '2016-01-12', '2016-01-13',\n",
       "                '2016-01-14', '2016-01-15',\n",
       "                ...\n",
       "                '2019-05-09', '2019-05-10', '2019-05-13', '2019-05-14',\n",
       "                '2019-05-15', '2019-05-16', '2019-05-17', '2019-05-20',\n",
       "                '2019-05-21', '2019-05-22'],\n",
       "               dtype='datetime64[ns]', name='Date', length=852, freq=None),\n",
       " Index(['High', 'Low', 'Open', 'Close', 'Volume', 'Adj Close'], dtype='object')]"
      ]
     },
     "execution_count": 23,
     "metadata": {},
     "output_type": "execute_result"
    }
   ],
   "source": [
    "stocks.values # returns list sof 5 values of each row, each of which is a value in a larger array(or list, idk)\n",
    "stocks.columns # returns list of column names\n",
    "stocks.index # returns DateTime index\n",
    "stocks.axes # combines result from '.index' and '.columns' attributes"
   ]
  },
  {
   "cell_type": "markdown",
   "metadata": {},
   "source": [
    "# Selecting from a DataFrame with a DateTimeIndex"
   ]
  },
  {
   "cell_type": "code",
   "execution_count": 38,
   "metadata": {},
   "outputs": [
    {
     "data": {
      "text/html": [
       "<div>\n",
       "<style scoped>\n",
       "    .dataframe tbody tr th:only-of-type {\n",
       "        vertical-align: middle;\n",
       "    }\n",
       "\n",
       "    .dataframe tbody tr th {\n",
       "        vertical-align: top;\n",
       "    }\n",
       "\n",
       "    .dataframe thead th {\n",
       "        text-align: right;\n",
       "    }\n",
       "</style>\n",
       "<table border=\"1\" class=\"dataframe\">\n",
       "  <thead>\n",
       "    <tr style=\"text-align: right;\">\n",
       "      <th></th>\n",
       "      <th>High</th>\n",
       "      <th>Low</th>\n",
       "      <th>Open</th>\n",
       "      <th>Close</th>\n",
       "      <th>Volume</th>\n",
       "      <th>Adj Close</th>\n",
       "    </tr>\n",
       "    <tr>\n",
       "      <th>Date</th>\n",
       "      <th></th>\n",
       "      <th></th>\n",
       "      <th></th>\n",
       "      <th></th>\n",
       "      <th></th>\n",
       "      <th></th>\n",
       "    </tr>\n",
       "  </thead>\n",
       "  <tbody>\n",
       "    <tr>\n",
       "      <th>2016-01-04</th>\n",
       "      <td>54.799999</td>\n",
       "      <td>53.389999</td>\n",
       "      <td>54.32</td>\n",
       "      <td>54.799999</td>\n",
       "      <td>53778000.0</td>\n",
       "      <td>50.877312</td>\n",
       "    </tr>\n",
       "    <tr>\n",
       "      <th>2016-01-05</th>\n",
       "      <td>55.389999</td>\n",
       "      <td>54.540001</td>\n",
       "      <td>54.93</td>\n",
       "      <td>55.049999</td>\n",
       "      <td>34079700.0</td>\n",
       "      <td>51.109421</td>\n",
       "    </tr>\n",
       "    <tr>\n",
       "      <th>2016-01-06</th>\n",
       "      <td>54.400002</td>\n",
       "      <td>53.639999</td>\n",
       "      <td>54.32</td>\n",
       "      <td>54.049999</td>\n",
       "      <td>39518900.0</td>\n",
       "      <td>50.181000</td>\n",
       "    </tr>\n",
       "  </tbody>\n",
       "</table>\n",
       "</div>"
      ],
      "text/plain": [
       "                 High        Low   Open      Close      Volume  Adj Close\n",
       "Date                                                                     \n",
       "2016-01-04  54.799999  53.389999  54.32  54.799999  53778000.0  50.877312\n",
       "2016-01-05  55.389999  54.540001  54.93  55.049999  34079700.0  51.109421\n",
       "2016-01-06  54.400002  53.639999  54.32  54.049999  39518900.0  50.181000"
      ]
     },
     "execution_count": 38,
     "metadata": {},
     "output_type": "execute_result"
    }
   ],
   "source": [
    "stocks = data.DataReader(name = company, data_source = \"yahoo\", start = start, end = end) \n",
    "stocks.head(3)"
   ]
  },
  {
   "cell_type": "code",
   "execution_count": 39,
   "metadata": {},
   "outputs": [
    {
     "data": {
      "text/plain": [
       "High         5.349000e+01\n",
       "Low          5.207000e+01\n",
       "Open         5.270000e+01\n",
       "Close        5.217000e+01\n",
       "Volume       5.656490e+07\n",
       "Adj Close    4.843557e+01\n",
       "Name: 2016-01-07 00:00:00, dtype: float64"
      ]
     },
     "execution_count": 39,
     "metadata": {},
     "output_type": "execute_result"
    }
   ],
   "source": [
    "stocks.loc[\"2016-01-07\"] # returns a Series where index labels are the column nams and the values are form the given row\n",
    "stocks.iloc[3] # same as above but based on index position"
   ]
  },
  {
   "cell_type": "code",
   "execution_count": 40,
   "metadata": {},
   "outputs": [
    {
     "ename": "KeyError",
     "evalue": "'2018-01-01'",
     "output_type": "error",
     "traceback": [
      "\u001b[1;31m---------------------------------------------------------------------------\u001b[0m",
      "\u001b[1;31mTypeError\u001b[0m                                 Traceback (most recent call last)",
      "\u001b[1;32mpandas/_libs/index.pyx\u001b[0m in \u001b[0;36mpandas._libs.index.DatetimeEngine.get_loc\u001b[1;34m()\u001b[0m\n",
      "\u001b[1;32mpandas/_libs/hashtable_class_helper.pxi\u001b[0m in \u001b[0;36mpandas._libs.hashtable.Int64HashTable.get_item\u001b[1;34m()\u001b[0m\n",
      "\u001b[1;31mTypeError\u001b[0m: an integer is required",
      "\nDuring handling of the above exception, another exception occurred:\n",
      "\u001b[1;31mKeyError\u001b[0m                                  Traceback (most recent call last)",
      "\u001b[1;32m~\\Anaconda3\\lib\\site-packages\\pandas\\core\\indexes\\base.py\u001b[0m in \u001b[0;36mget_loc\u001b[1;34m(self, key, method, tolerance)\u001b[0m\n\u001b[0;32m   2656\u001b[0m             \u001b[1;32mtry\u001b[0m\u001b[1;33m:\u001b[0m\u001b[1;33m\u001b[0m\u001b[1;33m\u001b[0m\u001b[0m\n\u001b[1;32m-> 2657\u001b[1;33m                 \u001b[1;32mreturn\u001b[0m \u001b[0mself\u001b[0m\u001b[1;33m.\u001b[0m\u001b[0m_engine\u001b[0m\u001b[1;33m.\u001b[0m\u001b[0mget_loc\u001b[0m\u001b[1;33m(\u001b[0m\u001b[0mkey\u001b[0m\u001b[1;33m)\u001b[0m\u001b[1;33m\u001b[0m\u001b[1;33m\u001b[0m\u001b[0m\n\u001b[0m\u001b[0;32m   2658\u001b[0m             \u001b[1;32mexcept\u001b[0m \u001b[0mKeyError\u001b[0m\u001b[1;33m:\u001b[0m\u001b[1;33m\u001b[0m\u001b[1;33m\u001b[0m\u001b[0m\n",
      "\u001b[1;32mpandas/_libs/index.pyx\u001b[0m in \u001b[0;36mpandas._libs.index.DatetimeEngine.get_loc\u001b[1;34m()\u001b[0m\n",
      "\u001b[1;32mpandas/_libs/index.pyx\u001b[0m in \u001b[0;36mpandas._libs.index.DatetimeEngine.get_loc\u001b[1;34m()\u001b[0m\n",
      "\u001b[1;32mpandas/_libs/index.pyx\u001b[0m in \u001b[0;36mpandas._libs.index.DatetimeEngine._date_check_type\u001b[1;34m()\u001b[0m\n",
      "\u001b[1;31mKeyError\u001b[0m: '2018-01-01'",
      "\nDuring handling of the above exception, another exception occurred:\n",
      "\u001b[1;31mTypeError\u001b[0m                                 Traceback (most recent call last)",
      "\u001b[1;32mpandas/_libs/index.pyx\u001b[0m in \u001b[0;36mpandas._libs.index.DatetimeEngine.get_loc\u001b[1;34m()\u001b[0m\n",
      "\u001b[1;32mpandas/_libs/hashtable_class_helper.pxi\u001b[0m in \u001b[0;36mpandas._libs.hashtable.Int64HashTable.get_item\u001b[1;34m()\u001b[0m\n",
      "\u001b[1;31mTypeError\u001b[0m: an integer is required",
      "\nDuring handling of the above exception, another exception occurred:\n",
      "\u001b[1;31mKeyError\u001b[0m                                  Traceback (most recent call last)",
      "\u001b[1;32m~\\Anaconda3\\lib\\site-packages\\pandas\\core\\indexes\\datetimes.py\u001b[0m in \u001b[0;36mget_loc\u001b[1;34m(self, key, method, tolerance)\u001b[0m\n\u001b[0;32m   1008\u001b[0m         \u001b[1;32mtry\u001b[0m\u001b[1;33m:\u001b[0m\u001b[1;33m\u001b[0m\u001b[1;33m\u001b[0m\u001b[0m\n\u001b[1;32m-> 1009\u001b[1;33m             \u001b[1;32mreturn\u001b[0m \u001b[0mIndex\u001b[0m\u001b[1;33m.\u001b[0m\u001b[0mget_loc\u001b[0m\u001b[1;33m(\u001b[0m\u001b[0mself\u001b[0m\u001b[1;33m,\u001b[0m \u001b[0mkey\u001b[0m\u001b[1;33m,\u001b[0m \u001b[0mmethod\u001b[0m\u001b[1;33m,\u001b[0m \u001b[0mtolerance\u001b[0m\u001b[1;33m)\u001b[0m\u001b[1;33m\u001b[0m\u001b[1;33m\u001b[0m\u001b[0m\n\u001b[0m\u001b[0;32m   1010\u001b[0m         \u001b[1;32mexcept\u001b[0m \u001b[1;33m(\u001b[0m\u001b[0mKeyError\u001b[0m\u001b[1;33m,\u001b[0m \u001b[0mValueError\u001b[0m\u001b[1;33m,\u001b[0m \u001b[0mTypeError\u001b[0m\u001b[1;33m)\u001b[0m\u001b[1;33m:\u001b[0m\u001b[1;33m\u001b[0m\u001b[1;33m\u001b[0m\u001b[0m\n",
      "\u001b[1;32m~\\Anaconda3\\lib\\site-packages\\pandas\\core\\indexes\\base.py\u001b[0m in \u001b[0;36mget_loc\u001b[1;34m(self, key, method, tolerance)\u001b[0m\n\u001b[0;32m   2658\u001b[0m             \u001b[1;32mexcept\u001b[0m \u001b[0mKeyError\u001b[0m\u001b[1;33m:\u001b[0m\u001b[1;33m\u001b[0m\u001b[1;33m\u001b[0m\u001b[0m\n\u001b[1;32m-> 2659\u001b[1;33m                 \u001b[1;32mreturn\u001b[0m \u001b[0mself\u001b[0m\u001b[1;33m.\u001b[0m\u001b[0m_engine\u001b[0m\u001b[1;33m.\u001b[0m\u001b[0mget_loc\u001b[0m\u001b[1;33m(\u001b[0m\u001b[0mself\u001b[0m\u001b[1;33m.\u001b[0m\u001b[0m_maybe_cast_indexer\u001b[0m\u001b[1;33m(\u001b[0m\u001b[0mkey\u001b[0m\u001b[1;33m)\u001b[0m\u001b[1;33m)\u001b[0m\u001b[1;33m\u001b[0m\u001b[1;33m\u001b[0m\u001b[0m\n\u001b[0m\u001b[0;32m   2660\u001b[0m         \u001b[0mindexer\u001b[0m \u001b[1;33m=\u001b[0m \u001b[0mself\u001b[0m\u001b[1;33m.\u001b[0m\u001b[0mget_indexer\u001b[0m\u001b[1;33m(\u001b[0m\u001b[1;33m[\u001b[0m\u001b[0mkey\u001b[0m\u001b[1;33m]\u001b[0m\u001b[1;33m,\u001b[0m \u001b[0mmethod\u001b[0m\u001b[1;33m=\u001b[0m\u001b[0mmethod\u001b[0m\u001b[1;33m,\u001b[0m \u001b[0mtolerance\u001b[0m\u001b[1;33m=\u001b[0m\u001b[0mtolerance\u001b[0m\u001b[1;33m)\u001b[0m\u001b[1;33m\u001b[0m\u001b[1;33m\u001b[0m\u001b[0m\n",
      "\u001b[1;32mpandas/_libs/index.pyx\u001b[0m in \u001b[0;36mpandas._libs.index.DatetimeEngine.get_loc\u001b[1;34m()\u001b[0m\n",
      "\u001b[1;32mpandas/_libs/index.pyx\u001b[0m in \u001b[0;36mpandas._libs.index.DatetimeEngine.get_loc\u001b[1;34m()\u001b[0m\n",
      "\u001b[1;32mpandas/_libs/index.pyx\u001b[0m in \u001b[0;36mpandas._libs.index.DatetimeEngine._date_check_type\u001b[1;34m()\u001b[0m\n",
      "\u001b[1;31mKeyError\u001b[0m: '2018-01-01'",
      "\nDuring handling of the above exception, another exception occurred:\n",
      "\u001b[1;31mKeyError\u001b[0m                                  Traceback (most recent call last)",
      "\u001b[1;32mpandas/_libs/index.pyx\u001b[0m in \u001b[0;36mpandas._libs.index.DatetimeEngine.get_loc\u001b[1;34m()\u001b[0m\n",
      "\u001b[1;32mpandas/_libs/hashtable_class_helper.pxi\u001b[0m in \u001b[0;36mpandas._libs.hashtable.Int64HashTable.get_item\u001b[1;34m()\u001b[0m\n",
      "\u001b[1;32mpandas/_libs/hashtable_class_helper.pxi\u001b[0m in \u001b[0;36mpandas._libs.hashtable.Int64HashTable.get_item\u001b[1;34m()\u001b[0m\n",
      "\u001b[1;31mKeyError\u001b[0m: 1514764800000000000",
      "\nDuring handling of the above exception, another exception occurred:\n",
      "\u001b[1;31mKeyError\u001b[0m                                  Traceback (most recent call last)",
      "\u001b[1;32m~\\Anaconda3\\lib\\site-packages\\pandas\\core\\indexes\\base.py\u001b[0m in \u001b[0;36mget_loc\u001b[1;34m(self, key, method, tolerance)\u001b[0m\n\u001b[0;32m   2656\u001b[0m             \u001b[1;32mtry\u001b[0m\u001b[1;33m:\u001b[0m\u001b[1;33m\u001b[0m\u001b[1;33m\u001b[0m\u001b[0m\n\u001b[1;32m-> 2657\u001b[1;33m                 \u001b[1;32mreturn\u001b[0m \u001b[0mself\u001b[0m\u001b[1;33m.\u001b[0m\u001b[0m_engine\u001b[0m\u001b[1;33m.\u001b[0m\u001b[0mget_loc\u001b[0m\u001b[1;33m(\u001b[0m\u001b[0mkey\u001b[0m\u001b[1;33m)\u001b[0m\u001b[1;33m\u001b[0m\u001b[1;33m\u001b[0m\u001b[0m\n\u001b[0m\u001b[0;32m   2658\u001b[0m             \u001b[1;32mexcept\u001b[0m \u001b[0mKeyError\u001b[0m\u001b[1;33m:\u001b[0m\u001b[1;33m\u001b[0m\u001b[1;33m\u001b[0m\u001b[0m\n",
      "\u001b[1;32mpandas/_libs/index.pyx\u001b[0m in \u001b[0;36mpandas._libs.index.DatetimeEngine.get_loc\u001b[1;34m()\u001b[0m\n",
      "\u001b[1;32mpandas/_libs/index.pyx\u001b[0m in \u001b[0;36mpandas._libs.index.DatetimeEngine.get_loc\u001b[1;34m()\u001b[0m\n",
      "\u001b[1;31mKeyError\u001b[0m: Timestamp('2018-01-01 00:00:00')",
      "\nDuring handling of the above exception, another exception occurred:\n",
      "\u001b[1;31mKeyError\u001b[0m                                  Traceback (most recent call last)",
      "\u001b[1;32mpandas/_libs/index.pyx\u001b[0m in \u001b[0;36mpandas._libs.index.DatetimeEngine.get_loc\u001b[1;34m()\u001b[0m\n",
      "\u001b[1;32mpandas/_libs/hashtable_class_helper.pxi\u001b[0m in \u001b[0;36mpandas._libs.hashtable.Int64HashTable.get_item\u001b[1;34m()\u001b[0m\n",
      "\u001b[1;32mpandas/_libs/hashtable_class_helper.pxi\u001b[0m in \u001b[0;36mpandas._libs.hashtable.Int64HashTable.get_item\u001b[1;34m()\u001b[0m\n",
      "\u001b[1;31mKeyError\u001b[0m: 1514764800000000000",
      "\nDuring handling of the above exception, another exception occurred:\n",
      "\u001b[1;31mKeyError\u001b[0m                                  Traceback (most recent call last)",
      "\u001b[1;32m~\\Anaconda3\\lib\\site-packages\\pandas\\core\\indexes\\datetimes.py\u001b[0m in \u001b[0;36mget_loc\u001b[1;34m(self, key, method, tolerance)\u001b[0m\n\u001b[0;32m   1021\u001b[0m                     \u001b[0mstamp\u001b[0m \u001b[1;33m=\u001b[0m \u001b[0mstamp\u001b[0m\u001b[1;33m.\u001b[0m\u001b[0mtz_localize\u001b[0m\u001b[1;33m(\u001b[0m\u001b[0mself\u001b[0m\u001b[1;33m.\u001b[0m\u001b[0mtz\u001b[0m\u001b[1;33m)\u001b[0m\u001b[1;33m\u001b[0m\u001b[1;33m\u001b[0m\u001b[0m\n\u001b[1;32m-> 1022\u001b[1;33m                 \u001b[1;32mreturn\u001b[0m \u001b[0mIndex\u001b[0m\u001b[1;33m.\u001b[0m\u001b[0mget_loc\u001b[0m\u001b[1;33m(\u001b[0m\u001b[0mself\u001b[0m\u001b[1;33m,\u001b[0m \u001b[0mstamp\u001b[0m\u001b[1;33m,\u001b[0m \u001b[0mmethod\u001b[0m\u001b[1;33m,\u001b[0m \u001b[0mtolerance\u001b[0m\u001b[1;33m)\u001b[0m\u001b[1;33m\u001b[0m\u001b[1;33m\u001b[0m\u001b[0m\n\u001b[0m\u001b[0;32m   1023\u001b[0m             \u001b[1;32mexcept\u001b[0m \u001b[0mKeyError\u001b[0m\u001b[1;33m:\u001b[0m\u001b[1;33m\u001b[0m\u001b[1;33m\u001b[0m\u001b[0m\n",
      "\u001b[1;32m~\\Anaconda3\\lib\\site-packages\\pandas\\core\\indexes\\base.py\u001b[0m in \u001b[0;36mget_loc\u001b[1;34m(self, key, method, tolerance)\u001b[0m\n\u001b[0;32m   2658\u001b[0m             \u001b[1;32mexcept\u001b[0m \u001b[0mKeyError\u001b[0m\u001b[1;33m:\u001b[0m\u001b[1;33m\u001b[0m\u001b[1;33m\u001b[0m\u001b[0m\n\u001b[1;32m-> 2659\u001b[1;33m                 \u001b[1;32mreturn\u001b[0m \u001b[0mself\u001b[0m\u001b[1;33m.\u001b[0m\u001b[0m_engine\u001b[0m\u001b[1;33m.\u001b[0m\u001b[0mget_loc\u001b[0m\u001b[1;33m(\u001b[0m\u001b[0mself\u001b[0m\u001b[1;33m.\u001b[0m\u001b[0m_maybe_cast_indexer\u001b[0m\u001b[1;33m(\u001b[0m\u001b[0mkey\u001b[0m\u001b[1;33m)\u001b[0m\u001b[1;33m)\u001b[0m\u001b[1;33m\u001b[0m\u001b[1;33m\u001b[0m\u001b[0m\n\u001b[0m\u001b[0;32m   2660\u001b[0m         \u001b[0mindexer\u001b[0m \u001b[1;33m=\u001b[0m \u001b[0mself\u001b[0m\u001b[1;33m.\u001b[0m\u001b[0mget_indexer\u001b[0m\u001b[1;33m(\u001b[0m\u001b[1;33m[\u001b[0m\u001b[0mkey\u001b[0m\u001b[1;33m]\u001b[0m\u001b[1;33m,\u001b[0m \u001b[0mmethod\u001b[0m\u001b[1;33m=\u001b[0m\u001b[0mmethod\u001b[0m\u001b[1;33m,\u001b[0m \u001b[0mtolerance\u001b[0m\u001b[1;33m=\u001b[0m\u001b[0mtolerance\u001b[0m\u001b[1;33m)\u001b[0m\u001b[1;33m\u001b[0m\u001b[1;33m\u001b[0m\u001b[0m\n",
      "\u001b[1;32mpandas/_libs/index.pyx\u001b[0m in \u001b[0;36mpandas._libs.index.DatetimeEngine.get_loc\u001b[1;34m()\u001b[0m\n",
      "\u001b[1;32mpandas/_libs/index.pyx\u001b[0m in \u001b[0;36mpandas._libs.index.DatetimeEngine.get_loc\u001b[1;34m()\u001b[0m\n",
      "\u001b[1;31mKeyError\u001b[0m: Timestamp('2018-01-01 00:00:00')",
      "\nDuring handling of the above exception, another exception occurred:\n",
      "\u001b[1;31mKeyError\u001b[0m                                  Traceback (most recent call last)",
      "\u001b[1;32m<ipython-input-40-b21471753751>\u001b[0m in \u001b[0;36m<module>\u001b[1;34m\u001b[0m\n\u001b[1;32m----> 1\u001b[1;33m \u001b[0mstocks\u001b[0m\u001b[1;33m.\u001b[0m\u001b[0mloc\u001b[0m\u001b[1;33m[\u001b[0m\u001b[1;34m\"2018-01-01\"\u001b[0m\u001b[1;33m]\u001b[0m \u001b[1;31m# error if the stock market is closed\u001b[0m\u001b[1;33m\u001b[0m\u001b[1;33m\u001b[0m\u001b[0m\n\u001b[0m",
      "\u001b[1;32m~\\Anaconda3\\lib\\site-packages\\pandas\\core\\indexing.py\u001b[0m in \u001b[0;36m__getitem__\u001b[1;34m(self, key)\u001b[0m\n\u001b[0;32m   1498\u001b[0m \u001b[1;33m\u001b[0m\u001b[0m\n\u001b[0;32m   1499\u001b[0m             \u001b[0mmaybe_callable\u001b[0m \u001b[1;33m=\u001b[0m \u001b[0mcom\u001b[0m\u001b[1;33m.\u001b[0m\u001b[0mapply_if_callable\u001b[0m\u001b[1;33m(\u001b[0m\u001b[0mkey\u001b[0m\u001b[1;33m,\u001b[0m \u001b[0mself\u001b[0m\u001b[1;33m.\u001b[0m\u001b[0mobj\u001b[0m\u001b[1;33m)\u001b[0m\u001b[1;33m\u001b[0m\u001b[1;33m\u001b[0m\u001b[0m\n\u001b[1;32m-> 1500\u001b[1;33m             \u001b[1;32mreturn\u001b[0m \u001b[0mself\u001b[0m\u001b[1;33m.\u001b[0m\u001b[0m_getitem_axis\u001b[0m\u001b[1;33m(\u001b[0m\u001b[0mmaybe_callable\u001b[0m\u001b[1;33m,\u001b[0m \u001b[0maxis\u001b[0m\u001b[1;33m=\u001b[0m\u001b[0maxis\u001b[0m\u001b[1;33m)\u001b[0m\u001b[1;33m\u001b[0m\u001b[1;33m\u001b[0m\u001b[0m\n\u001b[0m\u001b[0;32m   1501\u001b[0m \u001b[1;33m\u001b[0m\u001b[0m\n\u001b[0;32m   1502\u001b[0m     \u001b[1;32mdef\u001b[0m \u001b[0m_is_scalar_access\u001b[0m\u001b[1;33m(\u001b[0m\u001b[0mself\u001b[0m\u001b[1;33m,\u001b[0m \u001b[0mkey\u001b[0m\u001b[1;33m)\u001b[0m\u001b[1;33m:\u001b[0m\u001b[1;33m\u001b[0m\u001b[1;33m\u001b[0m\u001b[0m\n",
      "\u001b[1;32m~\\Anaconda3\\lib\\site-packages\\pandas\\core\\indexing.py\u001b[0m in \u001b[0;36m_getitem_axis\u001b[1;34m(self, key, axis)\u001b[0m\n\u001b[0;32m   1911\u001b[0m         \u001b[1;31m# fall thru to straight lookup\u001b[0m\u001b[1;33m\u001b[0m\u001b[1;33m\u001b[0m\u001b[1;33m\u001b[0m\u001b[0m\n\u001b[0;32m   1912\u001b[0m         \u001b[0mself\u001b[0m\u001b[1;33m.\u001b[0m\u001b[0m_validate_key\u001b[0m\u001b[1;33m(\u001b[0m\u001b[0mkey\u001b[0m\u001b[1;33m,\u001b[0m \u001b[0maxis\u001b[0m\u001b[1;33m)\u001b[0m\u001b[1;33m\u001b[0m\u001b[1;33m\u001b[0m\u001b[0m\n\u001b[1;32m-> 1913\u001b[1;33m         \u001b[1;32mreturn\u001b[0m \u001b[0mself\u001b[0m\u001b[1;33m.\u001b[0m\u001b[0m_get_label\u001b[0m\u001b[1;33m(\u001b[0m\u001b[0mkey\u001b[0m\u001b[1;33m,\u001b[0m \u001b[0maxis\u001b[0m\u001b[1;33m=\u001b[0m\u001b[0maxis\u001b[0m\u001b[1;33m)\u001b[0m\u001b[1;33m\u001b[0m\u001b[1;33m\u001b[0m\u001b[0m\n\u001b[0m\u001b[0;32m   1914\u001b[0m \u001b[1;33m\u001b[0m\u001b[0m\n\u001b[0;32m   1915\u001b[0m \u001b[1;33m\u001b[0m\u001b[0m\n",
      "\u001b[1;32m~\\Anaconda3\\lib\\site-packages\\pandas\\core\\indexing.py\u001b[0m in \u001b[0;36m_get_label\u001b[1;34m(self, label, axis)\u001b[0m\n\u001b[0;32m    139\u001b[0m             \u001b[1;32mraise\u001b[0m \u001b[0mIndexingError\u001b[0m\u001b[1;33m(\u001b[0m\u001b[1;34m'no slices here, handle elsewhere'\u001b[0m\u001b[1;33m)\u001b[0m\u001b[1;33m\u001b[0m\u001b[1;33m\u001b[0m\u001b[0m\n\u001b[0;32m    140\u001b[0m \u001b[1;33m\u001b[0m\u001b[0m\n\u001b[1;32m--> 141\u001b[1;33m         \u001b[1;32mreturn\u001b[0m \u001b[0mself\u001b[0m\u001b[1;33m.\u001b[0m\u001b[0mobj\u001b[0m\u001b[1;33m.\u001b[0m\u001b[0m_xs\u001b[0m\u001b[1;33m(\u001b[0m\u001b[0mlabel\u001b[0m\u001b[1;33m,\u001b[0m \u001b[0maxis\u001b[0m\u001b[1;33m=\u001b[0m\u001b[0maxis\u001b[0m\u001b[1;33m)\u001b[0m\u001b[1;33m\u001b[0m\u001b[1;33m\u001b[0m\u001b[0m\n\u001b[0m\u001b[0;32m    142\u001b[0m \u001b[1;33m\u001b[0m\u001b[0m\n\u001b[0;32m    143\u001b[0m     \u001b[1;32mdef\u001b[0m \u001b[0m_get_loc\u001b[0m\u001b[1;33m(\u001b[0m\u001b[0mself\u001b[0m\u001b[1;33m,\u001b[0m \u001b[0mkey\u001b[0m\u001b[1;33m,\u001b[0m \u001b[0maxis\u001b[0m\u001b[1;33m=\u001b[0m\u001b[1;32mNone\u001b[0m\u001b[1;33m)\u001b[0m\u001b[1;33m:\u001b[0m\u001b[1;33m\u001b[0m\u001b[1;33m\u001b[0m\u001b[0m\n",
      "\u001b[1;32m~\\Anaconda3\\lib\\site-packages\\pandas\\core\\generic.py\u001b[0m in \u001b[0;36mxs\u001b[1;34m(self, key, axis, level, drop_level)\u001b[0m\n\u001b[0;32m   3583\u001b[0m                                                       drop_level=drop_level)\n\u001b[0;32m   3584\u001b[0m         \u001b[1;32melse\u001b[0m\u001b[1;33m:\u001b[0m\u001b[1;33m\u001b[0m\u001b[1;33m\u001b[0m\u001b[0m\n\u001b[1;32m-> 3585\u001b[1;33m             \u001b[0mloc\u001b[0m \u001b[1;33m=\u001b[0m \u001b[0mself\u001b[0m\u001b[1;33m.\u001b[0m\u001b[0mindex\u001b[0m\u001b[1;33m.\u001b[0m\u001b[0mget_loc\u001b[0m\u001b[1;33m(\u001b[0m\u001b[0mkey\u001b[0m\u001b[1;33m)\u001b[0m\u001b[1;33m\u001b[0m\u001b[1;33m\u001b[0m\u001b[0m\n\u001b[0m\u001b[0;32m   3586\u001b[0m \u001b[1;33m\u001b[0m\u001b[0m\n\u001b[0;32m   3587\u001b[0m             \u001b[1;32mif\u001b[0m \u001b[0misinstance\u001b[0m\u001b[1;33m(\u001b[0m\u001b[0mloc\u001b[0m\u001b[1;33m,\u001b[0m \u001b[0mnp\u001b[0m\u001b[1;33m.\u001b[0m\u001b[0mndarray\u001b[0m\u001b[1;33m)\u001b[0m\u001b[1;33m:\u001b[0m\u001b[1;33m\u001b[0m\u001b[1;33m\u001b[0m\u001b[0m\n",
      "\u001b[1;32m~\\Anaconda3\\lib\\site-packages\\pandas\\core\\indexes\\datetimes.py\u001b[0m in \u001b[0;36mget_loc\u001b[1;34m(self, key, method, tolerance)\u001b[0m\n\u001b[0;32m   1022\u001b[0m                 \u001b[1;32mreturn\u001b[0m \u001b[0mIndex\u001b[0m\u001b[1;33m.\u001b[0m\u001b[0mget_loc\u001b[0m\u001b[1;33m(\u001b[0m\u001b[0mself\u001b[0m\u001b[1;33m,\u001b[0m \u001b[0mstamp\u001b[0m\u001b[1;33m,\u001b[0m \u001b[0mmethod\u001b[0m\u001b[1;33m,\u001b[0m \u001b[0mtolerance\u001b[0m\u001b[1;33m)\u001b[0m\u001b[1;33m\u001b[0m\u001b[1;33m\u001b[0m\u001b[0m\n\u001b[0;32m   1023\u001b[0m             \u001b[1;32mexcept\u001b[0m \u001b[0mKeyError\u001b[0m\u001b[1;33m:\u001b[0m\u001b[1;33m\u001b[0m\u001b[1;33m\u001b[0m\u001b[0m\n\u001b[1;32m-> 1024\u001b[1;33m                 \u001b[1;32mraise\u001b[0m \u001b[0mKeyError\u001b[0m\u001b[1;33m(\u001b[0m\u001b[0mkey\u001b[0m\u001b[1;33m)\u001b[0m\u001b[1;33m\u001b[0m\u001b[1;33m\u001b[0m\u001b[0m\n\u001b[0m\u001b[0;32m   1025\u001b[0m             \u001b[1;32mexcept\u001b[0m \u001b[0mValueError\u001b[0m \u001b[1;32mas\u001b[0m \u001b[0me\u001b[0m\u001b[1;33m:\u001b[0m\u001b[1;33m\u001b[0m\u001b[1;33m\u001b[0m\u001b[0m\n\u001b[0;32m   1026\u001b[0m                 \u001b[1;31m# list-like tolerance size must match target index size\u001b[0m\u001b[1;33m\u001b[0m\u001b[1;33m\u001b[0m\u001b[1;33m\u001b[0m\u001b[0m\n",
      "\u001b[1;31mKeyError\u001b[0m: '2018-01-01'"
     ]
    }
   ],
   "source": [
    "stocks.loc[\"2018-01-01\"] # error if the stock market is closed"
   ]
  },
  {
   "cell_type": "code",
   "execution_count": null,
   "metadata": {},
   "outputs": [],
   "source": [
    "stocks.loc[\"2017-10-01\" : \"2017-10-08\"]"
   ]
  },
  {
   "cell_type": "code",
   "execution_count": null,
   "metadata": {},
   "outputs": [],
   "source": [
    "birthdays = pd.date_range(start = \"1999-09-14\", end = \"2019-12-31\", freq = pd.DateOffset(years = 1)) # DateOffset seperate intervals 1 year seperate"
   ]
  },
  {
   "cell_type": "code",
   "execution_count": 41,
   "metadata": {
    "scrolled": true
   },
   "outputs": [],
   "source": [
    "mask = stocks.index.isin(birthdays) # returns boolean / should have some Trues for the stock of days that are my birthday from above\n",
    "# only returns False, even on my Birthday and IDK why"
   ]
  },
  {
   "cell_type": "code",
   "execution_count": 42,
   "metadata": {},
   "outputs": [
    {
     "data": {
      "text/html": [
       "<div>\n",
       "<style scoped>\n",
       "    .dataframe tbody tr th:only-of-type {\n",
       "        vertical-align: middle;\n",
       "    }\n",
       "\n",
       "    .dataframe tbody tr th {\n",
       "        vertical-align: top;\n",
       "    }\n",
       "\n",
       "    .dataframe thead th {\n",
       "        text-align: right;\n",
       "    }\n",
       "</style>\n",
       "<table border=\"1\" class=\"dataframe\">\n",
       "  <thead>\n",
       "    <tr style=\"text-align: right;\">\n",
       "      <th></th>\n",
       "      <th>High</th>\n",
       "      <th>Low</th>\n",
       "      <th>Open</th>\n",
       "      <th>Close</th>\n",
       "      <th>Volume</th>\n",
       "      <th>Adj Close</th>\n",
       "    </tr>\n",
       "    <tr>\n",
       "      <th>Date</th>\n",
       "      <th></th>\n",
       "      <th></th>\n",
       "      <th></th>\n",
       "      <th></th>\n",
       "      <th></th>\n",
       "      <th></th>\n",
       "    </tr>\n",
       "  </thead>\n",
       "  <tbody>\n",
       "    <tr>\n",
       "      <th>2016-09-14</th>\n",
       "      <td>56.630001</td>\n",
       "      <td>56.029999</td>\n",
       "      <td>56.389999</td>\n",
       "      <td>56.259998</td>\n",
       "      <td>24062500.0</td>\n",
       "      <td>53.305973</td>\n",
       "    </tr>\n",
       "    <tr>\n",
       "      <th>2017-09-14</th>\n",
       "      <td>75.489998</td>\n",
       "      <td>74.519997</td>\n",
       "      <td>75.000000</td>\n",
       "      <td>74.769997</td>\n",
       "      <td>15733900.0</td>\n",
       "      <td>72.550842</td>\n",
       "    </tr>\n",
       "    <tr>\n",
       "      <th>2018-09-14</th>\n",
       "      <td>113.730003</td>\n",
       "      <td>112.440002</td>\n",
       "      <td>113.360001</td>\n",
       "      <td>113.370003</td>\n",
       "      <td>19122300.0</td>\n",
       "      <td>111.987762</td>\n",
       "    </tr>\n",
       "  </tbody>\n",
       "</table>\n",
       "</div>"
      ],
      "text/plain": [
       "                  High         Low        Open       Close      Volume  \\\n",
       "Date                                                                     \n",
       "2016-09-14   56.630001   56.029999   56.389999   56.259998  24062500.0   \n",
       "2017-09-14   75.489998   74.519997   75.000000   74.769997  15733900.0   \n",
       "2018-09-14  113.730003  112.440002  113.360001  113.370003  19122300.0   \n",
       "\n",
       "             Adj Close  \n",
       "Date                    \n",
       "2016-09-14   53.305973  \n",
       "2017-09-14   72.550842  \n",
       "2018-09-14  111.987762  "
      ]
     },
     "execution_count": 42,
     "metadata": {},
     "output_type": "execute_result"
    }
   ],
   "source": [
    "stocks[mask] # this is supposed to return a table of all those stocks with on my birthday\n",
    "# the 'mask' above only returns false and IDK why"
   ]
  },
  {
   "cell_type": "markdown",
   "metadata": {},
   "source": [
    "# Timestamp Object Attibutes"
   ]
  },
  {
   "cell_type": "code",
   "execution_count": 43,
   "metadata": {},
   "outputs": [],
   "source": [
    "import pandas as pd\n",
    "import datetime as dt\n",
    "from pandas_datareader import data"
   ]
  },
  {
   "cell_type": "code",
   "execution_count": 61,
   "metadata": {},
   "outputs": [
    {
     "data": {
      "text/html": [
       "<div>\n",
       "<style scoped>\n",
       "    .dataframe tbody tr th:only-of-type {\n",
       "        vertical-align: middle;\n",
       "    }\n",
       "\n",
       "    .dataframe tbody tr th {\n",
       "        vertical-align: top;\n",
       "    }\n",
       "\n",
       "    .dataframe thead th {\n",
       "        text-align: right;\n",
       "    }\n",
       "</style>\n",
       "<table border=\"1\" class=\"dataframe\">\n",
       "  <thead>\n",
       "    <tr style=\"text-align: right;\">\n",
       "      <th></th>\n",
       "      <th>High</th>\n",
       "      <th>Low</th>\n",
       "      <th>Open</th>\n",
       "      <th>Close</th>\n",
       "      <th>Volume</th>\n",
       "      <th>Adj Close</th>\n",
       "    </tr>\n",
       "    <tr>\n",
       "      <th>Date</th>\n",
       "      <th></th>\n",
       "      <th></th>\n",
       "      <th></th>\n",
       "      <th></th>\n",
       "      <th></th>\n",
       "      <th></th>\n",
       "    </tr>\n",
       "  </thead>\n",
       "  <tbody>\n",
       "    <tr>\n",
       "      <th>2016-01-04</th>\n",
       "      <td>54.799999</td>\n",
       "      <td>53.389999</td>\n",
       "      <td>54.32</td>\n",
       "      <td>54.799999</td>\n",
       "      <td>53778000.0</td>\n",
       "      <td>50.877312</td>\n",
       "    </tr>\n",
       "    <tr>\n",
       "      <th>2016-01-05</th>\n",
       "      <td>55.389999</td>\n",
       "      <td>54.540001</td>\n",
       "      <td>54.93</td>\n",
       "      <td>55.049999</td>\n",
       "      <td>34079700.0</td>\n",
       "      <td>51.109421</td>\n",
       "    </tr>\n",
       "    <tr>\n",
       "      <th>2016-01-06</th>\n",
       "      <td>54.400002</td>\n",
       "      <td>53.639999</td>\n",
       "      <td>54.32</td>\n",
       "      <td>54.049999</td>\n",
       "      <td>39518900.0</td>\n",
       "      <td>50.181000</td>\n",
       "    </tr>\n",
       "  </tbody>\n",
       "</table>\n",
       "</div>"
      ],
      "text/plain": [
       "                 High        Low   Open      Close      Volume  Adj Close\n",
       "Date                                                                     \n",
       "2016-01-04  54.799999  53.389999  54.32  54.799999  53778000.0  50.877312\n",
       "2016-01-05  55.389999  54.540001  54.93  55.049999  34079700.0  51.109421\n",
       "2016-01-06  54.400002  53.639999  54.32  54.049999  39518900.0  50.181000"
      ]
     },
     "execution_count": 61,
     "metadata": {},
     "output_type": "execute_result"
    }
   ],
   "source": [
    "stocks = data.DataReader(name = company, data_source = \"yahoo\", start = start, end = end)\n",
    "stocks.head(3)"
   ]
  },
  {
   "cell_type": "code",
   "execution_count": 62,
   "metadata": {},
   "outputs": [],
   "source": [
    "someday = stocks.index[300]"
   ]
  },
  {
   "cell_type": "code",
   "execution_count": 63,
   "metadata": {},
   "outputs": [
    {
     "name": "stderr",
     "output_type": "stream",
     "text": [
      "C:\\Users\\Colton\\Anaconda3\\lib\\site-packages\\ipykernel_launcher.py:4: FutureWarning: `weekday_name` is deprecated and will be removed in a future version. Use `day_name` instead\n",
      "  after removing the cwd from sys.path.\n"
     ]
    },
    {
     "data": {
      "text/plain": [
       "False"
      ]
     },
     "execution_count": 63,
     "metadata": {},
     "output_type": "execute_result"
    }
   ],
   "source": [
    "someday.day\n",
    "someday.month\n",
    "someday.year\n",
    "someday.weekday_name\n",
    "someday.is_month_end # returns boolean\n",
    "someday.is_month_start\n"
   ]
  },
  {
   "cell_type": "code",
   "execution_count": 64,
   "metadata": {},
   "outputs": [],
   "source": [
    "stocks.insert(0, \"Day of Week\", stocks.index.weekday_name) # takes in index location, column name, and values to populate throughout new series"
   ]
  },
  {
   "cell_type": "code",
   "execution_count": 65,
   "metadata": {},
   "outputs": [],
   "source": [
    "stocks.insert(1, \"Is Start of Month\", stocks.index.is_month_start)"
   ]
  },
  {
   "cell_type": "code",
   "execution_count": 66,
   "metadata": {
    "collapsed": true
   },
   "outputs": [
    {
     "data": {
      "text/html": [
       "<div>\n",
       "<style scoped>\n",
       "    .dataframe tbody tr th:only-of-type {\n",
       "        vertical-align: middle;\n",
       "    }\n",
       "\n",
       "    .dataframe tbody tr th {\n",
       "        vertical-align: top;\n",
       "    }\n",
       "\n",
       "    .dataframe thead th {\n",
       "        text-align: right;\n",
       "    }\n",
       "</style>\n",
       "<table border=\"1\" class=\"dataframe\">\n",
       "  <thead>\n",
       "    <tr style=\"text-align: right;\">\n",
       "      <th></th>\n",
       "      <th>Day of Week</th>\n",
       "      <th>Is Start of Month</th>\n",
       "      <th>High</th>\n",
       "      <th>Low</th>\n",
       "      <th>Open</th>\n",
       "      <th>Close</th>\n",
       "      <th>Volume</th>\n",
       "      <th>Adj Close</th>\n",
       "    </tr>\n",
       "    <tr>\n",
       "      <th>Date</th>\n",
       "      <th></th>\n",
       "      <th></th>\n",
       "      <th></th>\n",
       "      <th></th>\n",
       "      <th></th>\n",
       "      <th></th>\n",
       "      <th></th>\n",
       "      <th></th>\n",
       "    </tr>\n",
       "  </thead>\n",
       "  <tbody>\n",
       "    <tr>\n",
       "      <th>2016-02-01</th>\n",
       "      <td>Monday</td>\n",
       "      <td>True</td>\n",
       "      <td>55.090000</td>\n",
       "      <td>54.500000</td>\n",
       "      <td>54.880001</td>\n",
       "      <td>54.709999</td>\n",
       "      <td>44208500.0</td>\n",
       "      <td>50.793755</td>\n",
       "    </tr>\n",
       "    <tr>\n",
       "      <th>2016-03-01</th>\n",
       "      <td>Tuesday</td>\n",
       "      <td>True</td>\n",
       "      <td>52.590000</td>\n",
       "      <td>50.919998</td>\n",
       "      <td>50.970001</td>\n",
       "      <td>52.580002</td>\n",
       "      <td>33024500.0</td>\n",
       "      <td>49.166725</td>\n",
       "    </tr>\n",
       "    <tr>\n",
       "      <th>2016-04-01</th>\n",
       "      <td>Friday</td>\n",
       "      <td>True</td>\n",
       "      <td>55.610001</td>\n",
       "      <td>54.570000</td>\n",
       "      <td>55.049999</td>\n",
       "      <td>55.570000</td>\n",
       "      <td>24399200.0</td>\n",
       "      <td>51.962627</td>\n",
       "    </tr>\n",
       "    <tr>\n",
       "      <th>2016-06-01</th>\n",
       "      <td>Wednesday</td>\n",
       "      <td>True</td>\n",
       "      <td>52.950001</td>\n",
       "      <td>52.439999</td>\n",
       "      <td>52.439999</td>\n",
       "      <td>52.849998</td>\n",
       "      <td>25324800.0</td>\n",
       "      <td>49.764847</td>\n",
       "    </tr>\n",
       "    <tr>\n",
       "      <th>2016-07-01</th>\n",
       "      <td>Friday</td>\n",
       "      <td>True</td>\n",
       "      <td>51.720001</td>\n",
       "      <td>51.070000</td>\n",
       "      <td>51.130001</td>\n",
       "      <td>51.160000</td>\n",
       "      <td>21400400.0</td>\n",
       "      <td>48.173504</td>\n",
       "    </tr>\n",
       "    <tr>\n",
       "      <th>2016-08-01</th>\n",
       "      <td>Monday</td>\n",
       "      <td>True</td>\n",
       "      <td>56.750000</td>\n",
       "      <td>56.139999</td>\n",
       "      <td>56.599998</td>\n",
       "      <td>56.580002</td>\n",
       "      <td>26003400.0</td>\n",
       "      <td>53.277107</td>\n",
       "    </tr>\n",
       "    <tr>\n",
       "      <th>2016-09-01</th>\n",
       "      <td>Thursday</td>\n",
       "      <td>True</td>\n",
       "      <td>57.820000</td>\n",
       "      <td>57.009998</td>\n",
       "      <td>57.009998</td>\n",
       "      <td>57.590000</td>\n",
       "      <td>26075400.0</td>\n",
       "      <td>54.566135</td>\n",
       "    </tr>\n",
       "    <tr>\n",
       "      <th>2016-11-01</th>\n",
       "      <td>Tuesday</td>\n",
       "      <td>True</td>\n",
       "      <td>60.020000</td>\n",
       "      <td>59.250000</td>\n",
       "      <td>59.970001</td>\n",
       "      <td>59.799999</td>\n",
       "      <td>24533000.0</td>\n",
       "      <td>56.660099</td>\n",
       "    </tr>\n",
       "    <tr>\n",
       "      <th>2016-12-01</th>\n",
       "      <td>Thursday</td>\n",
       "      <td>True</td>\n",
       "      <td>60.150002</td>\n",
       "      <td>58.939999</td>\n",
       "      <td>60.110001</td>\n",
       "      <td>59.200001</td>\n",
       "      <td>34542100.0</td>\n",
       "      <td>56.470524</td>\n",
       "    </tr>\n",
       "    <tr>\n",
       "      <th>2017-02-01</th>\n",
       "      <td>Wednesday</td>\n",
       "      <td>True</td>\n",
       "      <td>64.620003</td>\n",
       "      <td>63.470001</td>\n",
       "      <td>64.360001</td>\n",
       "      <td>63.580002</td>\n",
       "      <td>39671500.0</td>\n",
       "      <td>60.648590</td>\n",
       "    </tr>\n",
       "    <tr>\n",
       "      <th>2017-03-01</th>\n",
       "      <td>Wednesday</td>\n",
       "      <td>True</td>\n",
       "      <td>64.989998</td>\n",
       "      <td>64.019997</td>\n",
       "      <td>64.129997</td>\n",
       "      <td>64.940002</td>\n",
       "      <td>26937500.0</td>\n",
       "      <td>62.321438</td>\n",
       "    </tr>\n",
       "    <tr>\n",
       "      <th>2017-05-01</th>\n",
       "      <td>Monday</td>\n",
       "      <td>True</td>\n",
       "      <td>69.550003</td>\n",
       "      <td>68.500000</td>\n",
       "      <td>68.680000</td>\n",
       "      <td>69.410004</td>\n",
       "      <td>31954400.0</td>\n",
       "      <td>66.611198</td>\n",
       "    </tr>\n",
       "    <tr>\n",
       "      <th>2017-06-01</th>\n",
       "      <td>Thursday</td>\n",
       "      <td>True</td>\n",
       "      <td>70.610001</td>\n",
       "      <td>69.449997</td>\n",
       "      <td>70.239998</td>\n",
       "      <td>70.099998</td>\n",
       "      <td>21603600.0</td>\n",
       "      <td>67.658966</td>\n",
       "    </tr>\n",
       "    <tr>\n",
       "      <th>2017-08-01</th>\n",
       "      <td>Tuesday</td>\n",
       "      <td>True</td>\n",
       "      <td>73.419998</td>\n",
       "      <td>72.489998</td>\n",
       "      <td>73.099998</td>\n",
       "      <td>72.580002</td>\n",
       "      <td>22132300.0</td>\n",
       "      <td>70.052635</td>\n",
       "    </tr>\n",
       "    <tr>\n",
       "      <th>2017-09-01</th>\n",
       "      <td>Friday</td>\n",
       "      <td>True</td>\n",
       "      <td>74.739998</td>\n",
       "      <td>73.639999</td>\n",
       "      <td>74.709999</td>\n",
       "      <td>73.940002</td>\n",
       "      <td>21736200.0</td>\n",
       "      <td>71.745491</td>\n",
       "    </tr>\n",
       "    <tr>\n",
       "      <th>2017-11-01</th>\n",
       "      <td>Wednesday</td>\n",
       "      <td>True</td>\n",
       "      <td>83.760002</td>\n",
       "      <td>82.879997</td>\n",
       "      <td>83.680000</td>\n",
       "      <td>83.180000</td>\n",
       "      <td>22307400.0</td>\n",
       "      <td>80.711250</td>\n",
       "    </tr>\n",
       "    <tr>\n",
       "      <th>2017-12-01</th>\n",
       "      <td>Friday</td>\n",
       "      <td>True</td>\n",
       "      <td>84.809998</td>\n",
       "      <td>83.220001</td>\n",
       "      <td>83.599998</td>\n",
       "      <td>84.260002</td>\n",
       "      <td>29532100.0</td>\n",
       "      <td>82.169785</td>\n",
       "    </tr>\n",
       "    <tr>\n",
       "      <th>2018-02-01</th>\n",
       "      <td>Thursday</td>\n",
       "      <td>True</td>\n",
       "      <td>96.070000</td>\n",
       "      <td>93.580002</td>\n",
       "      <td>94.790001</td>\n",
       "      <td>94.260002</td>\n",
       "      <td>47227900.0</td>\n",
       "      <td>91.921715</td>\n",
       "    </tr>\n",
       "    <tr>\n",
       "      <th>2018-03-01</th>\n",
       "      <td>Thursday</td>\n",
       "      <td>True</td>\n",
       "      <td>94.570000</td>\n",
       "      <td>91.839996</td>\n",
       "      <td>93.989998</td>\n",
       "      <td>92.849998</td>\n",
       "      <td>37135600.0</td>\n",
       "      <td>90.972031</td>\n",
       "    </tr>\n",
       "    <tr>\n",
       "      <th>2018-05-01</th>\n",
       "      <td>Tuesday</td>\n",
       "      <td>True</td>\n",
       "      <td>95.290001</td>\n",
       "      <td>92.790001</td>\n",
       "      <td>93.209999</td>\n",
       "      <td>95.000000</td>\n",
       "      <td>31408900.0</td>\n",
       "      <td>93.078545</td>\n",
       "    </tr>\n",
       "    <tr>\n",
       "      <th>2018-06-01</th>\n",
       "      <td>Friday</td>\n",
       "      <td>True</td>\n",
       "      <td>100.860001</td>\n",
       "      <td>99.169998</td>\n",
       "      <td>99.279999</td>\n",
       "      <td>100.790001</td>\n",
       "      <td>28655600.0</td>\n",
       "      <td>99.179474</td>\n",
       "    </tr>\n",
       "    <tr>\n",
       "      <th>2018-08-01</th>\n",
       "      <td>Wednesday</td>\n",
       "      <td>True</td>\n",
       "      <td>106.449997</td>\n",
       "      <td>105.419998</td>\n",
       "      <td>106.029999</td>\n",
       "      <td>106.279999</td>\n",
       "      <td>23628700.0</td>\n",
       "      <td>104.581749</td>\n",
       "    </tr>\n",
       "    <tr>\n",
       "      <th>2018-10-01</th>\n",
       "      <td>Monday</td>\n",
       "      <td>True</td>\n",
       "      <td>115.680000</td>\n",
       "      <td>114.730003</td>\n",
       "      <td>114.750000</td>\n",
       "      <td>115.610001</td>\n",
       "      <td>18883100.0</td>\n",
       "      <td>114.200455</td>\n",
       "    </tr>\n",
       "    <tr>\n",
       "      <th>2018-11-01</th>\n",
       "      <td>Thursday</td>\n",
       "      <td>True</td>\n",
       "      <td>107.320000</td>\n",
       "      <td>105.529999</td>\n",
       "      <td>107.050003</td>\n",
       "      <td>105.919998</td>\n",
       "      <td>33384200.0</td>\n",
       "      <td>104.628593</td>\n",
       "    </tr>\n",
       "    <tr>\n",
       "      <th>2019-02-01</th>\n",
       "      <td>Friday</td>\n",
       "      <td>True</td>\n",
       "      <td>104.099998</td>\n",
       "      <td>102.349998</td>\n",
       "      <td>103.779999</td>\n",
       "      <td>102.779999</td>\n",
       "      <td>35535700.0</td>\n",
       "      <td>101.965477</td>\n",
       "    </tr>\n",
       "    <tr>\n",
       "      <th>2019-03-01</th>\n",
       "      <td>Friday</td>\n",
       "      <td>True</td>\n",
       "      <td>113.019997</td>\n",
       "      <td>111.669998</td>\n",
       "      <td>112.889999</td>\n",
       "      <td>112.529999</td>\n",
       "      <td>23501200.0</td>\n",
       "      <td>112.114990</td>\n",
       "    </tr>\n",
       "    <tr>\n",
       "      <th>2019-04-01</th>\n",
       "      <td>Monday</td>\n",
       "      <td>True</td>\n",
       "      <td>119.110001</td>\n",
       "      <td>118.099998</td>\n",
       "      <td>118.949997</td>\n",
       "      <td>119.019997</td>\n",
       "      <td>22789100.0</td>\n",
       "      <td>118.581055</td>\n",
       "    </tr>\n",
       "    <tr>\n",
       "      <th>2019-05-01</th>\n",
       "      <td>Wednesday</td>\n",
       "      <td>True</td>\n",
       "      <td>130.649994</td>\n",
       "      <td>127.699997</td>\n",
       "      <td>130.529999</td>\n",
       "      <td>127.879997</td>\n",
       "      <td>26821700.0</td>\n",
       "      <td>127.408379</td>\n",
       "    </tr>\n",
       "  </tbody>\n",
       "</table>\n",
       "</div>"
      ],
      "text/plain": [
       "           Day of Week  Is Start of Month        High         Low        Open  \\\n",
       "Date                                                                            \n",
       "2016-02-01      Monday               True   55.090000   54.500000   54.880001   \n",
       "2016-03-01     Tuesday               True   52.590000   50.919998   50.970001   \n",
       "2016-04-01      Friday               True   55.610001   54.570000   55.049999   \n",
       "2016-06-01   Wednesday               True   52.950001   52.439999   52.439999   \n",
       "2016-07-01      Friday               True   51.720001   51.070000   51.130001   \n",
       "2016-08-01      Monday               True   56.750000   56.139999   56.599998   \n",
       "2016-09-01    Thursday               True   57.820000   57.009998   57.009998   \n",
       "2016-11-01     Tuesday               True   60.020000   59.250000   59.970001   \n",
       "2016-12-01    Thursday               True   60.150002   58.939999   60.110001   \n",
       "2017-02-01   Wednesday               True   64.620003   63.470001   64.360001   \n",
       "2017-03-01   Wednesday               True   64.989998   64.019997   64.129997   \n",
       "2017-05-01      Monday               True   69.550003   68.500000   68.680000   \n",
       "2017-06-01    Thursday               True   70.610001   69.449997   70.239998   \n",
       "2017-08-01     Tuesday               True   73.419998   72.489998   73.099998   \n",
       "2017-09-01      Friday               True   74.739998   73.639999   74.709999   \n",
       "2017-11-01   Wednesday               True   83.760002   82.879997   83.680000   \n",
       "2017-12-01      Friday               True   84.809998   83.220001   83.599998   \n",
       "2018-02-01    Thursday               True   96.070000   93.580002   94.790001   \n",
       "2018-03-01    Thursday               True   94.570000   91.839996   93.989998   \n",
       "2018-05-01     Tuesday               True   95.290001   92.790001   93.209999   \n",
       "2018-06-01      Friday               True  100.860001   99.169998   99.279999   \n",
       "2018-08-01   Wednesday               True  106.449997  105.419998  106.029999   \n",
       "2018-10-01      Monday               True  115.680000  114.730003  114.750000   \n",
       "2018-11-01    Thursday               True  107.320000  105.529999  107.050003   \n",
       "2019-02-01      Friday               True  104.099998  102.349998  103.779999   \n",
       "2019-03-01      Friday               True  113.019997  111.669998  112.889999   \n",
       "2019-04-01      Monday               True  119.110001  118.099998  118.949997   \n",
       "2019-05-01   Wednesday               True  130.649994  127.699997  130.529999   \n",
       "\n",
       "                 Close      Volume   Adj Close  \n",
       "Date                                            \n",
       "2016-02-01   54.709999  44208500.0   50.793755  \n",
       "2016-03-01   52.580002  33024500.0   49.166725  \n",
       "2016-04-01   55.570000  24399200.0   51.962627  \n",
       "2016-06-01   52.849998  25324800.0   49.764847  \n",
       "2016-07-01   51.160000  21400400.0   48.173504  \n",
       "2016-08-01   56.580002  26003400.0   53.277107  \n",
       "2016-09-01   57.590000  26075400.0   54.566135  \n",
       "2016-11-01   59.799999  24533000.0   56.660099  \n",
       "2016-12-01   59.200001  34542100.0   56.470524  \n",
       "2017-02-01   63.580002  39671500.0   60.648590  \n",
       "2017-03-01   64.940002  26937500.0   62.321438  \n",
       "2017-05-01   69.410004  31954400.0   66.611198  \n",
       "2017-06-01   70.099998  21603600.0   67.658966  \n",
       "2017-08-01   72.580002  22132300.0   70.052635  \n",
       "2017-09-01   73.940002  21736200.0   71.745491  \n",
       "2017-11-01   83.180000  22307400.0   80.711250  \n",
       "2017-12-01   84.260002  29532100.0   82.169785  \n",
       "2018-02-01   94.260002  47227900.0   91.921715  \n",
       "2018-03-01   92.849998  37135600.0   90.972031  \n",
       "2018-05-01   95.000000  31408900.0   93.078545  \n",
       "2018-06-01  100.790001  28655600.0   99.179474  \n",
       "2018-08-01  106.279999  23628700.0  104.581749  \n",
       "2018-10-01  115.610001  18883100.0  114.200455  \n",
       "2018-11-01  105.919998  33384200.0  104.628593  \n",
       "2019-02-01  102.779999  35535700.0  101.965477  \n",
       "2019-03-01  112.529999  23501200.0  112.114990  \n",
       "2019-04-01  119.019997  22789100.0  118.581055  \n",
       "2019-05-01  127.879997  26821700.0  127.408379  "
      ]
     },
     "execution_count": 66,
     "metadata": {},
     "output_type": "execute_result"
    }
   ],
   "source": [
    "stocks[stocks[\"Is Start of Month\"]]"
   ]
  },
  {
   "cell_type": "markdown",
   "metadata": {},
   "source": [
    "# The .truncate() Method"
   ]
  },
  {
   "cell_type": "code",
   "execution_count": 69,
   "metadata": {},
   "outputs": [
    {
     "data": {
      "text/html": [
       "<div>\n",
       "<style scoped>\n",
       "    .dataframe tbody tr th:only-of-type {\n",
       "        vertical-align: middle;\n",
       "    }\n",
       "\n",
       "    .dataframe tbody tr th {\n",
       "        vertical-align: top;\n",
       "    }\n",
       "\n",
       "    .dataframe thead th {\n",
       "        text-align: right;\n",
       "    }\n",
       "</style>\n",
       "<table border=\"1\" class=\"dataframe\">\n",
       "  <thead>\n",
       "    <tr style=\"text-align: right;\">\n",
       "      <th></th>\n",
       "      <th>High</th>\n",
       "      <th>Low</th>\n",
       "      <th>Open</th>\n",
       "      <th>Close</th>\n",
       "      <th>Volume</th>\n",
       "      <th>Adj Close</th>\n",
       "    </tr>\n",
       "    <tr>\n",
       "      <th>Date</th>\n",
       "      <th></th>\n",
       "      <th></th>\n",
       "      <th></th>\n",
       "      <th></th>\n",
       "      <th></th>\n",
       "      <th></th>\n",
       "    </tr>\n",
       "  </thead>\n",
       "  <tbody>\n",
       "    <tr>\n",
       "      <th>2016-01-04</th>\n",
       "      <td>54.799999</td>\n",
       "      <td>53.389999</td>\n",
       "      <td>54.32</td>\n",
       "      <td>54.799999</td>\n",
       "      <td>53778000.0</td>\n",
       "      <td>50.877312</td>\n",
       "    </tr>\n",
       "    <tr>\n",
       "      <th>2016-01-05</th>\n",
       "      <td>55.389999</td>\n",
       "      <td>54.540001</td>\n",
       "      <td>54.93</td>\n",
       "      <td>55.049999</td>\n",
       "      <td>34079700.0</td>\n",
       "      <td>51.109421</td>\n",
       "    </tr>\n",
       "    <tr>\n",
       "      <th>2016-01-06</th>\n",
       "      <td>54.400002</td>\n",
       "      <td>53.639999</td>\n",
       "      <td>54.32</td>\n",
       "      <td>54.049999</td>\n",
       "      <td>39518900.0</td>\n",
       "      <td>50.181000</td>\n",
       "    </tr>\n",
       "  </tbody>\n",
       "</table>\n",
       "</div>"
      ],
      "text/plain": [
       "                 High        Low   Open      Close      Volume  Adj Close\n",
       "Date                                                                     \n",
       "2016-01-04  54.799999  53.389999  54.32  54.799999  53778000.0  50.877312\n",
       "2016-01-05  55.389999  54.540001  54.93  55.049999  34079700.0  51.109421\n",
       "2016-01-06  54.400002  53.639999  54.32  54.049999  39518900.0  50.181000"
      ]
     },
     "execution_count": 69,
     "metadata": {},
     "output_type": "execute_result"
    }
   ],
   "source": [
    "stocks = data.DataReader(name = company, data_source = \"yahoo\", start = start, end = end) \n",
    "stocks.head(3)"
   ]
  },
  {
   "cell_type": "code",
   "execution_count": 72,
   "metadata": {
    "scrolled": true
   },
   "outputs": [
    {
     "data": {
      "text/html": [
       "<div>\n",
       "<style scoped>\n",
       "    .dataframe tbody tr th:only-of-type {\n",
       "        vertical-align: middle;\n",
       "    }\n",
       "\n",
       "    .dataframe tbody tr th {\n",
       "        vertical-align: top;\n",
       "    }\n",
       "\n",
       "    .dataframe thead th {\n",
       "        text-align: right;\n",
       "    }\n",
       "</style>\n",
       "<table border=\"1\" class=\"dataframe\">\n",
       "  <thead>\n",
       "    <tr style=\"text-align: right;\">\n",
       "      <th></th>\n",
       "      <th>High</th>\n",
       "      <th>Low</th>\n",
       "      <th>Open</th>\n",
       "      <th>Close</th>\n",
       "      <th>Volume</th>\n",
       "      <th>Adj Close</th>\n",
       "    </tr>\n",
       "    <tr>\n",
       "      <th>Date</th>\n",
       "      <th></th>\n",
       "      <th></th>\n",
       "      <th></th>\n",
       "      <th></th>\n",
       "      <th></th>\n",
       "      <th></th>\n",
       "    </tr>\n",
       "  </thead>\n",
       "  <tbody>\n",
       "    <tr>\n",
       "      <th>2017-03-06</th>\n",
       "      <td>64.559998</td>\n",
       "      <td>63.810001</td>\n",
       "      <td>63.970001</td>\n",
       "      <td>64.269997</td>\n",
       "      <td>18750300.0</td>\n",
       "      <td>61.678444</td>\n",
       "    </tr>\n",
       "    <tr>\n",
       "      <th>2017-03-07</th>\n",
       "      <td>64.779999</td>\n",
       "      <td>64.190002</td>\n",
       "      <td>64.190002</td>\n",
       "      <td>64.400002</td>\n",
       "      <td>18521000.0</td>\n",
       "      <td>61.803211</td>\n",
       "    </tr>\n",
       "    <tr>\n",
       "      <th>2017-03-08</th>\n",
       "      <td>65.080002</td>\n",
       "      <td>64.250000</td>\n",
       "      <td>64.260002</td>\n",
       "      <td>64.989998</td>\n",
       "      <td>21510900.0</td>\n",
       "      <td>62.369411</td>\n",
       "    </tr>\n",
       "    <tr>\n",
       "      <th>2017-03-09</th>\n",
       "      <td>65.199997</td>\n",
       "      <td>64.480003</td>\n",
       "      <td>65.190002</td>\n",
       "      <td>64.730003</td>\n",
       "      <td>19846800.0</td>\n",
       "      <td>62.119892</td>\n",
       "    </tr>\n",
       "    <tr>\n",
       "      <th>2017-03-10</th>\n",
       "      <td>65.260002</td>\n",
       "      <td>64.750000</td>\n",
       "      <td>65.110001</td>\n",
       "      <td>64.930000</td>\n",
       "      <td>19538200.0</td>\n",
       "      <td>62.311829</td>\n",
       "    </tr>\n",
       "    <tr>\n",
       "      <th>2017-03-13</th>\n",
       "      <td>65.190002</td>\n",
       "      <td>64.570000</td>\n",
       "      <td>65.010002</td>\n",
       "      <td>64.709999</td>\n",
       "      <td>20100000.0</td>\n",
       "      <td>62.100704</td>\n",
       "    </tr>\n",
       "    <tr>\n",
       "      <th>2017-03-14</th>\n",
       "      <td>64.550003</td>\n",
       "      <td>64.150002</td>\n",
       "      <td>64.529999</td>\n",
       "      <td>64.410004</td>\n",
       "      <td>14280200.0</td>\n",
       "      <td>61.812801</td>\n",
       "    </tr>\n",
       "    <tr>\n",
       "      <th>2017-03-15</th>\n",
       "      <td>64.919998</td>\n",
       "      <td>64.250000</td>\n",
       "      <td>64.550003</td>\n",
       "      <td>64.750000</td>\n",
       "      <td>24833800.0</td>\n",
       "      <td>62.139091</td>\n",
       "    </tr>\n",
       "    <tr>\n",
       "      <th>2017-03-16</th>\n",
       "      <td>64.760002</td>\n",
       "      <td>64.300003</td>\n",
       "      <td>64.750000</td>\n",
       "      <td>64.639999</td>\n",
       "      <td>20674300.0</td>\n",
       "      <td>62.033531</td>\n",
       "    </tr>\n",
       "    <tr>\n",
       "      <th>2017-03-17</th>\n",
       "      <td>65.239998</td>\n",
       "      <td>64.680000</td>\n",
       "      <td>64.910004</td>\n",
       "      <td>64.870003</td>\n",
       "      <td>49219700.0</td>\n",
       "      <td>62.254253</td>\n",
       "    </tr>\n",
       "    <tr>\n",
       "      <th>2017-03-20</th>\n",
       "      <td>65.180000</td>\n",
       "      <td>64.720001</td>\n",
       "      <td>64.910004</td>\n",
       "      <td>64.930000</td>\n",
       "      <td>14598100.0</td>\n",
       "      <td>62.311829</td>\n",
       "    </tr>\n",
       "    <tr>\n",
       "      <th>2017-03-21</th>\n",
       "      <td>65.500000</td>\n",
       "      <td>64.129997</td>\n",
       "      <td>65.190002</td>\n",
       "      <td>64.209999</td>\n",
       "      <td>26640500.0</td>\n",
       "      <td>61.620869</td>\n",
       "    </tr>\n",
       "    <tr>\n",
       "      <th>2017-03-22</th>\n",
       "      <td>65.139999</td>\n",
       "      <td>64.120003</td>\n",
       "      <td>64.120003</td>\n",
       "      <td>65.029999</td>\n",
       "      <td>20680000.0</td>\n",
       "      <td>62.407799</td>\n",
       "    </tr>\n",
       "    <tr>\n",
       "      <th>2017-03-23</th>\n",
       "      <td>65.239998</td>\n",
       "      <td>64.769997</td>\n",
       "      <td>64.940002</td>\n",
       "      <td>64.870003</td>\n",
       "      <td>19269200.0</td>\n",
       "      <td>62.254253</td>\n",
       "    </tr>\n",
       "    <tr>\n",
       "      <th>2017-03-24</th>\n",
       "      <td>65.449997</td>\n",
       "      <td>64.760002</td>\n",
       "      <td>65.360001</td>\n",
       "      <td>64.980003</td>\n",
       "      <td>22617100.0</td>\n",
       "      <td>62.359821</td>\n",
       "    </tr>\n",
       "    <tr>\n",
       "      <th>2017-03-27</th>\n",
       "      <td>65.220001</td>\n",
       "      <td>64.349998</td>\n",
       "      <td>64.629997</td>\n",
       "      <td>65.099998</td>\n",
       "      <td>18614700.0</td>\n",
       "      <td>62.474976</td>\n",
       "    </tr>\n",
       "    <tr>\n",
       "      <th>2017-03-28</th>\n",
       "      <td>65.470001</td>\n",
       "      <td>64.650002</td>\n",
       "      <td>64.959999</td>\n",
       "      <td>65.290001</td>\n",
       "      <td>20080400.0</td>\n",
       "      <td>62.657314</td>\n",
       "    </tr>\n",
       "    <tr>\n",
       "      <th>2017-03-29</th>\n",
       "      <td>65.500000</td>\n",
       "      <td>64.949997</td>\n",
       "      <td>65.120003</td>\n",
       "      <td>65.470001</td>\n",
       "      <td>13618400.0</td>\n",
       "      <td>62.830051</td>\n",
       "    </tr>\n",
       "    <tr>\n",
       "      <th>2017-03-30</th>\n",
       "      <td>65.980003</td>\n",
       "      <td>65.360001</td>\n",
       "      <td>65.419998</td>\n",
       "      <td>65.709999</td>\n",
       "      <td>15122800.0</td>\n",
       "      <td>63.060390</td>\n",
       "    </tr>\n",
       "    <tr>\n",
       "      <th>2017-03-31</th>\n",
       "      <td>66.190002</td>\n",
       "      <td>65.449997</td>\n",
       "      <td>65.650002</td>\n",
       "      <td>65.860001</td>\n",
       "      <td>21040300.0</td>\n",
       "      <td>63.204323</td>\n",
       "    </tr>\n",
       "    <tr>\n",
       "      <th>2017-04-03</th>\n",
       "      <td>65.940002</td>\n",
       "      <td>65.190002</td>\n",
       "      <td>65.809998</td>\n",
       "      <td>65.550003</td>\n",
       "      <td>20400900.0</td>\n",
       "      <td>62.906837</td>\n",
       "    </tr>\n",
       "    <tr>\n",
       "      <th>2017-04-04</th>\n",
       "      <td>65.809998</td>\n",
       "      <td>65.279999</td>\n",
       "      <td>65.389999</td>\n",
       "      <td>65.730003</td>\n",
       "      <td>12997400.0</td>\n",
       "      <td>63.079582</td>\n",
       "    </tr>\n",
       "    <tr>\n",
       "      <th>2017-04-05</th>\n",
       "      <td>66.349998</td>\n",
       "      <td>65.440002</td>\n",
       "      <td>66.300003</td>\n",
       "      <td>65.559998</td>\n",
       "      <td>21448600.0</td>\n",
       "      <td>62.916428</td>\n",
       "    </tr>\n",
       "    <tr>\n",
       "      <th>2017-04-06</th>\n",
       "      <td>66.059998</td>\n",
       "      <td>65.480003</td>\n",
       "      <td>65.599998</td>\n",
       "      <td>65.730003</td>\n",
       "      <td>18103500.0</td>\n",
       "      <td>63.079582</td>\n",
       "    </tr>\n",
       "    <tr>\n",
       "      <th>2017-04-07</th>\n",
       "      <td>65.959999</td>\n",
       "      <td>65.440002</td>\n",
       "      <td>65.849998</td>\n",
       "      <td>65.680000</td>\n",
       "      <td>14108500.0</td>\n",
       "      <td>63.031605</td>\n",
       "    </tr>\n",
       "    <tr>\n",
       "      <th>2017-04-10</th>\n",
       "      <td>65.820000</td>\n",
       "      <td>65.360001</td>\n",
       "      <td>65.610001</td>\n",
       "      <td>65.529999</td>\n",
       "      <td>17952700.0</td>\n",
       "      <td>62.887638</td>\n",
       "    </tr>\n",
       "    <tr>\n",
       "      <th>2017-04-11</th>\n",
       "      <td>65.610001</td>\n",
       "      <td>64.849998</td>\n",
       "      <td>65.599998</td>\n",
       "      <td>65.480003</td>\n",
       "      <td>18791500.0</td>\n",
       "      <td>62.839657</td>\n",
       "    </tr>\n",
       "    <tr>\n",
       "      <th>2017-04-12</th>\n",
       "      <td>65.510002</td>\n",
       "      <td>65.110001</td>\n",
       "      <td>65.419998</td>\n",
       "      <td>65.230003</td>\n",
       "      <td>17108500.0</td>\n",
       "      <td>62.599735</td>\n",
       "    </tr>\n",
       "    <tr>\n",
       "      <th>2017-04-13</th>\n",
       "      <td>65.860001</td>\n",
       "      <td>64.949997</td>\n",
       "      <td>65.290001</td>\n",
       "      <td>64.949997</td>\n",
       "      <td>17896500.0</td>\n",
       "      <td>62.331020</td>\n",
       "    </tr>\n",
       "    <tr>\n",
       "      <th>2017-04-17</th>\n",
       "      <td>65.489998</td>\n",
       "      <td>65.010002</td>\n",
       "      <td>65.040001</td>\n",
       "      <td>65.480003</td>\n",
       "      <td>16689300.0</td>\n",
       "      <td>62.839657</td>\n",
       "    </tr>\n",
       "    <tr>\n",
       "      <th>...</th>\n",
       "      <td>...</td>\n",
       "      <td>...</td>\n",
       "      <td>...</td>\n",
       "      <td>...</td>\n",
       "      <td>...</td>\n",
       "      <td>...</td>\n",
       "    </tr>\n",
       "    <tr>\n",
       "      <th>2017-07-28</th>\n",
       "      <td>73.309998</td>\n",
       "      <td>72.540001</td>\n",
       "      <td>72.669998</td>\n",
       "      <td>73.040001</td>\n",
       "      <td>18306700.0</td>\n",
       "      <td>70.496590</td>\n",
       "    </tr>\n",
       "    <tr>\n",
       "      <th>2017-07-31</th>\n",
       "      <td>73.440002</td>\n",
       "      <td>72.410004</td>\n",
       "      <td>73.300003</td>\n",
       "      <td>72.699997</td>\n",
       "      <td>23600100.0</td>\n",
       "      <td>70.168427</td>\n",
       "    </tr>\n",
       "    <tr>\n",
       "      <th>2017-08-01</th>\n",
       "      <td>73.419998</td>\n",
       "      <td>72.489998</td>\n",
       "      <td>73.099998</td>\n",
       "      <td>72.580002</td>\n",
       "      <td>22132300.0</td>\n",
       "      <td>70.052635</td>\n",
       "    </tr>\n",
       "    <tr>\n",
       "      <th>2017-08-02</th>\n",
       "      <td>72.559998</td>\n",
       "      <td>71.440002</td>\n",
       "      <td>72.550003</td>\n",
       "      <td>72.260002</td>\n",
       "      <td>26499200.0</td>\n",
       "      <td>69.743767</td>\n",
       "    </tr>\n",
       "    <tr>\n",
       "      <th>2017-08-03</th>\n",
       "      <td>72.440002</td>\n",
       "      <td>71.849998</td>\n",
       "      <td>72.190002</td>\n",
       "      <td>72.150002</td>\n",
       "      <td>18214400.0</td>\n",
       "      <td>69.637596</td>\n",
       "    </tr>\n",
       "    <tr>\n",
       "      <th>2017-08-04</th>\n",
       "      <td>73.040001</td>\n",
       "      <td>72.239998</td>\n",
       "      <td>72.400002</td>\n",
       "      <td>72.680000</td>\n",
       "      <td>22579000.0</td>\n",
       "      <td>70.149124</td>\n",
       "    </tr>\n",
       "    <tr>\n",
       "      <th>2017-08-07</th>\n",
       "      <td>72.900002</td>\n",
       "      <td>72.260002</td>\n",
       "      <td>72.800003</td>\n",
       "      <td>72.400002</td>\n",
       "      <td>18705700.0</td>\n",
       "      <td>69.878883</td>\n",
       "    </tr>\n",
       "    <tr>\n",
       "      <th>2017-08-08</th>\n",
       "      <td>73.129997</td>\n",
       "      <td>71.750000</td>\n",
       "      <td>72.089996</td>\n",
       "      <td>72.790001</td>\n",
       "      <td>22044600.0</td>\n",
       "      <td>70.255310</td>\n",
       "    </tr>\n",
       "    <tr>\n",
       "      <th>2017-08-09</th>\n",
       "      <td>72.510002</td>\n",
       "      <td>72.050003</td>\n",
       "      <td>72.250000</td>\n",
       "      <td>72.470001</td>\n",
       "      <td>22213400.0</td>\n",
       "      <td>69.946449</td>\n",
       "    </tr>\n",
       "    <tr>\n",
       "      <th>2017-08-10</th>\n",
       "      <td>72.190002</td>\n",
       "      <td>71.349998</td>\n",
       "      <td>71.900002</td>\n",
       "      <td>71.410004</td>\n",
       "      <td>24734500.0</td>\n",
       "      <td>68.923355</td>\n",
       "    </tr>\n",
       "    <tr>\n",
       "      <th>2017-08-11</th>\n",
       "      <td>72.699997</td>\n",
       "      <td>71.279999</td>\n",
       "      <td>71.610001</td>\n",
       "      <td>72.500000</td>\n",
       "      <td>21443700.0</td>\n",
       "      <td>69.975395</td>\n",
       "    </tr>\n",
       "    <tr>\n",
       "      <th>2017-08-14</th>\n",
       "      <td>73.720001</td>\n",
       "      <td>72.949997</td>\n",
       "      <td>73.059998</td>\n",
       "      <td>73.589996</td>\n",
       "      <td>20067300.0</td>\n",
       "      <td>71.027443</td>\n",
       "    </tr>\n",
       "    <tr>\n",
       "      <th>2017-08-15</th>\n",
       "      <td>73.589996</td>\n",
       "      <td>73.040001</td>\n",
       "      <td>73.589996</td>\n",
       "      <td>73.220001</td>\n",
       "      <td>19181400.0</td>\n",
       "      <td>71.046837</td>\n",
       "    </tr>\n",
       "    <tr>\n",
       "      <th>2017-08-16</th>\n",
       "      <td>74.099998</td>\n",
       "      <td>73.169998</td>\n",
       "      <td>73.339996</td>\n",
       "      <td>73.650002</td>\n",
       "      <td>18150400.0</td>\n",
       "      <td>71.464088</td>\n",
       "    </tr>\n",
       "    <tr>\n",
       "      <th>2017-08-17</th>\n",
       "      <td>73.870003</td>\n",
       "      <td>72.400002</td>\n",
       "      <td>73.580002</td>\n",
       "      <td>72.400002</td>\n",
       "      <td>22977500.0</td>\n",
       "      <td>70.251198</td>\n",
       "    </tr>\n",
       "    <tr>\n",
       "      <th>2017-08-18</th>\n",
       "      <td>72.839996</td>\n",
       "      <td>71.930000</td>\n",
       "      <td>72.269997</td>\n",
       "      <td>72.489998</td>\n",
       "      <td>18761500.0</td>\n",
       "      <td>70.338516</td>\n",
       "    </tr>\n",
       "    <tr>\n",
       "      <th>2017-08-21</th>\n",
       "      <td>72.480003</td>\n",
       "      <td>71.699997</td>\n",
       "      <td>72.470001</td>\n",
       "      <td>72.150002</td>\n",
       "      <td>17734800.0</td>\n",
       "      <td>70.008606</td>\n",
       "    </tr>\n",
       "    <tr>\n",
       "      <th>2017-08-22</th>\n",
       "      <td>73.239998</td>\n",
       "      <td>72.349998</td>\n",
       "      <td>72.349998</td>\n",
       "      <td>73.160004</td>\n",
       "      <td>14343700.0</td>\n",
       "      <td>70.988632</td>\n",
       "    </tr>\n",
       "    <tr>\n",
       "      <th>2017-08-23</th>\n",
       "      <td>73.150002</td>\n",
       "      <td>72.529999</td>\n",
       "      <td>72.959999</td>\n",
       "      <td>72.720001</td>\n",
       "      <td>13766500.0</td>\n",
       "      <td>70.561684</td>\n",
       "    </tr>\n",
       "    <tr>\n",
       "      <th>2017-08-24</th>\n",
       "      <td>72.860001</td>\n",
       "      <td>72.070000</td>\n",
       "      <td>72.739998</td>\n",
       "      <td>72.690002</td>\n",
       "      <td>17098300.0</td>\n",
       "      <td>70.532578</td>\n",
       "    </tr>\n",
       "    <tr>\n",
       "      <th>2017-08-25</th>\n",
       "      <td>73.349998</td>\n",
       "      <td>72.480003</td>\n",
       "      <td>72.860001</td>\n",
       "      <td>72.820000</td>\n",
       "      <td>12794300.0</td>\n",
       "      <td>70.658714</td>\n",
       "    </tr>\n",
       "    <tr>\n",
       "      <th>2017-08-28</th>\n",
       "      <td>73.089996</td>\n",
       "      <td>72.550003</td>\n",
       "      <td>73.059998</td>\n",
       "      <td>72.830002</td>\n",
       "      <td>14569700.0</td>\n",
       "      <td>70.668419</td>\n",
       "    </tr>\n",
       "    <tr>\n",
       "      <th>2017-08-29</th>\n",
       "      <td>73.160004</td>\n",
       "      <td>72.050003</td>\n",
       "      <td>72.250000</td>\n",
       "      <td>73.050003</td>\n",
       "      <td>11478400.0</td>\n",
       "      <td>70.881897</td>\n",
       "    </tr>\n",
       "    <tr>\n",
       "      <th>2017-08-30</th>\n",
       "      <td>74.209999</td>\n",
       "      <td>72.830002</td>\n",
       "      <td>73.010002</td>\n",
       "      <td>74.010002</td>\n",
       "      <td>16897800.0</td>\n",
       "      <td>71.813408</td>\n",
       "    </tr>\n",
       "    <tr>\n",
       "      <th>2017-08-31</th>\n",
       "      <td>74.959999</td>\n",
       "      <td>73.800003</td>\n",
       "      <td>74.029999</td>\n",
       "      <td>74.769997</td>\n",
       "      <td>27652800.0</td>\n",
       "      <td>72.550842</td>\n",
       "    </tr>\n",
       "    <tr>\n",
       "      <th>2017-09-01</th>\n",
       "      <td>74.739998</td>\n",
       "      <td>73.639999</td>\n",
       "      <td>74.709999</td>\n",
       "      <td>73.940002</td>\n",
       "      <td>21736200.0</td>\n",
       "      <td>71.745491</td>\n",
       "    </tr>\n",
       "    <tr>\n",
       "      <th>2017-09-05</th>\n",
       "      <td>73.889999</td>\n",
       "      <td>72.980003</td>\n",
       "      <td>73.339996</td>\n",
       "      <td>73.610001</td>\n",
       "      <td>21556000.0</td>\n",
       "      <td>71.425270</td>\n",
       "    </tr>\n",
       "    <tr>\n",
       "      <th>2017-09-06</th>\n",
       "      <td>74.040001</td>\n",
       "      <td>73.349998</td>\n",
       "      <td>73.739998</td>\n",
       "      <td>73.400002</td>\n",
       "      <td>16535800.0</td>\n",
       "      <td>71.221512</td>\n",
       "    </tr>\n",
       "    <tr>\n",
       "      <th>2017-09-07</th>\n",
       "      <td>74.599998</td>\n",
       "      <td>73.599998</td>\n",
       "      <td>73.680000</td>\n",
       "      <td>74.339996</td>\n",
       "      <td>17471200.0</td>\n",
       "      <td>72.133614</td>\n",
       "    </tr>\n",
       "    <tr>\n",
       "      <th>2017-09-08</th>\n",
       "      <td>74.440002</td>\n",
       "      <td>73.839996</td>\n",
       "      <td>74.330002</td>\n",
       "      <td>73.980003</td>\n",
       "      <td>14703800.0</td>\n",
       "      <td>71.784294</td>\n",
       "    </tr>\n",
       "  </tbody>\n",
       "</table>\n",
       "<p>131 rows × 6 columns</p>\n",
       "</div>"
      ],
      "text/plain": [
       "                 High        Low       Open      Close      Volume  Adj Close\n",
       "Date                                                                         \n",
       "2017-03-06  64.559998  63.810001  63.970001  64.269997  18750300.0  61.678444\n",
       "2017-03-07  64.779999  64.190002  64.190002  64.400002  18521000.0  61.803211\n",
       "2017-03-08  65.080002  64.250000  64.260002  64.989998  21510900.0  62.369411\n",
       "2017-03-09  65.199997  64.480003  65.190002  64.730003  19846800.0  62.119892\n",
       "2017-03-10  65.260002  64.750000  65.110001  64.930000  19538200.0  62.311829\n",
       "2017-03-13  65.190002  64.570000  65.010002  64.709999  20100000.0  62.100704\n",
       "2017-03-14  64.550003  64.150002  64.529999  64.410004  14280200.0  61.812801\n",
       "2017-03-15  64.919998  64.250000  64.550003  64.750000  24833800.0  62.139091\n",
       "2017-03-16  64.760002  64.300003  64.750000  64.639999  20674300.0  62.033531\n",
       "2017-03-17  65.239998  64.680000  64.910004  64.870003  49219700.0  62.254253\n",
       "2017-03-20  65.180000  64.720001  64.910004  64.930000  14598100.0  62.311829\n",
       "2017-03-21  65.500000  64.129997  65.190002  64.209999  26640500.0  61.620869\n",
       "2017-03-22  65.139999  64.120003  64.120003  65.029999  20680000.0  62.407799\n",
       "2017-03-23  65.239998  64.769997  64.940002  64.870003  19269200.0  62.254253\n",
       "2017-03-24  65.449997  64.760002  65.360001  64.980003  22617100.0  62.359821\n",
       "2017-03-27  65.220001  64.349998  64.629997  65.099998  18614700.0  62.474976\n",
       "2017-03-28  65.470001  64.650002  64.959999  65.290001  20080400.0  62.657314\n",
       "2017-03-29  65.500000  64.949997  65.120003  65.470001  13618400.0  62.830051\n",
       "2017-03-30  65.980003  65.360001  65.419998  65.709999  15122800.0  63.060390\n",
       "2017-03-31  66.190002  65.449997  65.650002  65.860001  21040300.0  63.204323\n",
       "2017-04-03  65.940002  65.190002  65.809998  65.550003  20400900.0  62.906837\n",
       "2017-04-04  65.809998  65.279999  65.389999  65.730003  12997400.0  63.079582\n",
       "2017-04-05  66.349998  65.440002  66.300003  65.559998  21448600.0  62.916428\n",
       "2017-04-06  66.059998  65.480003  65.599998  65.730003  18103500.0  63.079582\n",
       "2017-04-07  65.959999  65.440002  65.849998  65.680000  14108500.0  63.031605\n",
       "2017-04-10  65.820000  65.360001  65.610001  65.529999  17952700.0  62.887638\n",
       "2017-04-11  65.610001  64.849998  65.599998  65.480003  18791500.0  62.839657\n",
       "2017-04-12  65.510002  65.110001  65.419998  65.230003  17108500.0  62.599735\n",
       "2017-04-13  65.860001  64.949997  65.290001  64.949997  17896500.0  62.331020\n",
       "2017-04-17  65.489998  65.010002  65.040001  65.480003  16689300.0  62.839657\n",
       "...               ...        ...        ...        ...         ...        ...\n",
       "2017-07-28  73.309998  72.540001  72.669998  73.040001  18306700.0  70.496590\n",
       "2017-07-31  73.440002  72.410004  73.300003  72.699997  23600100.0  70.168427\n",
       "2017-08-01  73.419998  72.489998  73.099998  72.580002  22132300.0  70.052635\n",
       "2017-08-02  72.559998  71.440002  72.550003  72.260002  26499200.0  69.743767\n",
       "2017-08-03  72.440002  71.849998  72.190002  72.150002  18214400.0  69.637596\n",
       "2017-08-04  73.040001  72.239998  72.400002  72.680000  22579000.0  70.149124\n",
       "2017-08-07  72.900002  72.260002  72.800003  72.400002  18705700.0  69.878883\n",
       "2017-08-08  73.129997  71.750000  72.089996  72.790001  22044600.0  70.255310\n",
       "2017-08-09  72.510002  72.050003  72.250000  72.470001  22213400.0  69.946449\n",
       "2017-08-10  72.190002  71.349998  71.900002  71.410004  24734500.0  68.923355\n",
       "2017-08-11  72.699997  71.279999  71.610001  72.500000  21443700.0  69.975395\n",
       "2017-08-14  73.720001  72.949997  73.059998  73.589996  20067300.0  71.027443\n",
       "2017-08-15  73.589996  73.040001  73.589996  73.220001  19181400.0  71.046837\n",
       "2017-08-16  74.099998  73.169998  73.339996  73.650002  18150400.0  71.464088\n",
       "2017-08-17  73.870003  72.400002  73.580002  72.400002  22977500.0  70.251198\n",
       "2017-08-18  72.839996  71.930000  72.269997  72.489998  18761500.0  70.338516\n",
       "2017-08-21  72.480003  71.699997  72.470001  72.150002  17734800.0  70.008606\n",
       "2017-08-22  73.239998  72.349998  72.349998  73.160004  14343700.0  70.988632\n",
       "2017-08-23  73.150002  72.529999  72.959999  72.720001  13766500.0  70.561684\n",
       "2017-08-24  72.860001  72.070000  72.739998  72.690002  17098300.0  70.532578\n",
       "2017-08-25  73.349998  72.480003  72.860001  72.820000  12794300.0  70.658714\n",
       "2017-08-28  73.089996  72.550003  73.059998  72.830002  14569700.0  70.668419\n",
       "2017-08-29  73.160004  72.050003  72.250000  73.050003  11478400.0  70.881897\n",
       "2017-08-30  74.209999  72.830002  73.010002  74.010002  16897800.0  71.813408\n",
       "2017-08-31  74.959999  73.800003  74.029999  74.769997  27652800.0  72.550842\n",
       "2017-09-01  74.739998  73.639999  74.709999  73.940002  21736200.0  71.745491\n",
       "2017-09-05  73.889999  72.980003  73.339996  73.610001  21556000.0  71.425270\n",
       "2017-09-06  74.040001  73.349998  73.739998  73.400002  16535800.0  71.221512\n",
       "2017-09-07  74.599998  73.599998  73.680000  74.339996  17471200.0  72.133614\n",
       "2017-09-08  74.440002  73.839996  74.330002  73.980003  14703800.0  71.784294\n",
       "\n",
       "[131 rows x 6 columns]"
      ]
     },
     "execution_count": 72,
     "metadata": {},
     "output_type": "execute_result"
    }
   ],
   "source": [
    "stocks.truncate(before = \"2017-03-05\", after = \"2017-09-09\") # give the start date and end date as 'before' and 'after' respectively\n",
    "# creates a new concise dataset"
   ]
  },
  {
   "cell_type": "markdown",
   "metadata": {},
   "source": [
    "# pd.DateOffset Objects"
   ]
  },
  {
   "cell_type": "code",
   "execution_count": 74,
   "metadata": {
    "scrolled": true
   },
   "outputs": [],
   "source": [
    "stocks = data.DataReader(name = \"GOOG\",\n",
    "                data_source = \"yahoo\", \n",
    "                start = dt.date(2000, 1, 1),\n",
    "                end = dt.datetime.now()) #dt.datetime.now returns the current date as a datetime object"
   ]
  },
  {
   "cell_type": "code",
   "execution_count": 75,
   "metadata": {},
   "outputs": [
    {
     "data": {
      "text/html": [
       "<div>\n",
       "<style scoped>\n",
       "    .dataframe tbody tr th:only-of-type {\n",
       "        vertical-align: middle;\n",
       "    }\n",
       "\n",
       "    .dataframe tbody tr th {\n",
       "        vertical-align: top;\n",
       "    }\n",
       "\n",
       "    .dataframe thead th {\n",
       "        text-align: right;\n",
       "    }\n",
       "</style>\n",
       "<table border=\"1\" class=\"dataframe\">\n",
       "  <thead>\n",
       "    <tr style=\"text-align: right;\">\n",
       "      <th></th>\n",
       "      <th>High</th>\n",
       "      <th>Low</th>\n",
       "      <th>Open</th>\n",
       "      <th>Close</th>\n",
       "      <th>Volume</th>\n",
       "      <th>Adj Close</th>\n",
       "    </tr>\n",
       "    <tr>\n",
       "      <th>Date</th>\n",
       "      <th></th>\n",
       "      <th></th>\n",
       "      <th></th>\n",
       "      <th></th>\n",
       "      <th></th>\n",
       "      <th></th>\n",
       "    </tr>\n",
       "  </thead>\n",
       "  <tbody>\n",
       "    <tr>\n",
       "      <th>2004-08-19</th>\n",
       "      <td>51.693783</td>\n",
       "      <td>47.669952</td>\n",
       "      <td>49.676899</td>\n",
       "      <td>49.845802</td>\n",
       "      <td>44994500.0</td>\n",
       "      <td>49.845802</td>\n",
       "    </tr>\n",
       "    <tr>\n",
       "      <th>2004-08-20</th>\n",
       "      <td>54.187561</td>\n",
       "      <td>49.925285</td>\n",
       "      <td>50.178635</td>\n",
       "      <td>53.805050</td>\n",
       "      <td>23005800.0</td>\n",
       "      <td>53.805050</td>\n",
       "    </tr>\n",
       "    <tr>\n",
       "      <th>2004-08-23</th>\n",
       "      <td>56.373344</td>\n",
       "      <td>54.172661</td>\n",
       "      <td>55.017166</td>\n",
       "      <td>54.346527</td>\n",
       "      <td>18393200.0</td>\n",
       "      <td>54.346527</td>\n",
       "    </tr>\n",
       "  </tbody>\n",
       "</table>\n",
       "</div>"
      ],
      "text/plain": [
       "                 High        Low       Open      Close      Volume  Adj Close\n",
       "Date                                                                         \n",
       "2004-08-19  51.693783  47.669952  49.676899  49.845802  44994500.0  49.845802\n",
       "2004-08-20  54.187561  49.925285  50.178635  53.805050  23005800.0  53.805050\n",
       "2004-08-23  56.373344  54.172661  55.017166  54.346527  18393200.0  54.346527"
      ]
     },
     "execution_count": 75,
     "metadata": {},
     "output_type": "execute_result"
    }
   ],
   "source": [
    "stocks.head(3)"
   ]
  },
  {
   "cell_type": "code",
   "execution_count": 90,
   "metadata": {},
   "outputs": [
    {
     "data": {
      "text/plain": [
       "DatetimeIndex(['2006-04-29 00:59:00', '2006-04-30 00:59:00',\n",
       "               '2006-05-03 00:59:00', '2006-05-04 00:59:00',\n",
       "               '2006-05-05 00:59:00', '2006-05-06 00:59:00',\n",
       "               '2006-05-07 00:59:00', '2006-05-10 00:59:00',\n",
       "               '2006-05-10 00:59:00', '2006-05-11 00:59:00',\n",
       "               ...\n",
       "               '2021-01-19 00:59:00', '2021-01-20 00:59:00',\n",
       "               '2021-01-23 00:59:00', '2021-01-24 00:59:00',\n",
       "               '2021-01-25 00:59:00', '2021-01-26 00:59:00',\n",
       "               '2021-01-27 00:59:00', '2021-01-30 00:59:00',\n",
       "               '2021-01-31 00:59:00', '2021-02-01 00:59:00'],\n",
       "              dtype='datetime64[ns]', name='Date', length=3715, freq=None)"
      ]
     },
     "execution_count": 90,
     "metadata": {},
     "output_type": "execute_result"
    }
   ],
   "source": [
    "stocks.index + pd.DateOffset(minutes = 59, months = 8, years = 1,  days = 10)     # adds a number of days/weeks/months/minutes/etc... to each value"
   ]
  },
  {
   "cell_type": "markdown",
   "metadata": {},
   "source": [
    "# More Fun with pd.DateOffset Objects"
   ]
  },
  {
   "cell_type": "code",
   "execution_count": 100,
   "metadata": {},
   "outputs": [],
   "source": [
    "import pandas as pd\n",
    "import datetime as dt\n",
    "from pandas_datareader import data\n",
    "from pandas.tseries.offsets import * # import all info from this submodule to save space "
   ]
  },
  {
   "cell_type": "code",
   "execution_count": 91,
   "metadata": {},
   "outputs": [
    {
     "data": {
      "text/html": [
       "<div>\n",
       "<style scoped>\n",
       "    .dataframe tbody tr th:only-of-type {\n",
       "        vertical-align: middle;\n",
       "    }\n",
       "\n",
       "    .dataframe tbody tr th {\n",
       "        vertical-align: top;\n",
       "    }\n",
       "\n",
       "    .dataframe thead th {\n",
       "        text-align: right;\n",
       "    }\n",
       "</style>\n",
       "<table border=\"1\" class=\"dataframe\">\n",
       "  <thead>\n",
       "    <tr style=\"text-align: right;\">\n",
       "      <th></th>\n",
       "      <th>High</th>\n",
       "      <th>Low</th>\n",
       "      <th>Open</th>\n",
       "      <th>Close</th>\n",
       "      <th>Volume</th>\n",
       "      <th>Adj Close</th>\n",
       "    </tr>\n",
       "    <tr>\n",
       "      <th>Date</th>\n",
       "      <th></th>\n",
       "      <th></th>\n",
       "      <th></th>\n",
       "      <th></th>\n",
       "      <th></th>\n",
       "      <th></th>\n",
       "    </tr>\n",
       "  </thead>\n",
       "  <tbody>\n",
       "    <tr>\n",
       "      <th>2004-08-19</th>\n",
       "      <td>51.693783</td>\n",
       "      <td>47.669952</td>\n",
       "      <td>49.676899</td>\n",
       "      <td>49.845802</td>\n",
       "      <td>44994500.0</td>\n",
       "      <td>49.845802</td>\n",
       "    </tr>\n",
       "    <tr>\n",
       "      <th>2004-08-20</th>\n",
       "      <td>54.187561</td>\n",
       "      <td>49.925285</td>\n",
       "      <td>50.178635</td>\n",
       "      <td>53.805050</td>\n",
       "      <td>23005800.0</td>\n",
       "      <td>53.805050</td>\n",
       "    </tr>\n",
       "    <tr>\n",
       "      <th>2004-08-23</th>\n",
       "      <td>56.373344</td>\n",
       "      <td>54.172661</td>\n",
       "      <td>55.017166</td>\n",
       "      <td>54.346527</td>\n",
       "      <td>18393200.0</td>\n",
       "      <td>54.346527</td>\n",
       "    </tr>\n",
       "  </tbody>\n",
       "</table>\n",
       "</div>"
      ],
      "text/plain": [
       "                 High        Low       Open      Close      Volume  Adj Close\n",
       "Date                                                                         \n",
       "2004-08-19  51.693783  47.669952  49.676899  49.845802  44994500.0  49.845802\n",
       "2004-08-20  54.187561  49.925285  50.178635  53.805050  23005800.0  53.805050\n",
       "2004-08-23  56.373344  54.172661  55.017166  54.346527  18393200.0  54.346527"
      ]
     },
     "execution_count": 91,
     "metadata": {},
     "output_type": "execute_result"
    }
   ],
   "source": [
    "stocks = data.DataReader(name = \"GOOG\",\n",
    "                data_source = \"yahoo\", \n",
    "                start = dt.date(2000, 1, 1),\n",
    "                end = dt.datetime.now()) #dt.datetime.now returns the current date as a datetime object\n",
    "stocks.head(3)"
   ]
  },
  {
   "cell_type": "code",
   "execution_count": 108,
   "metadata": {
    "scrolled": true
   },
   "outputs": [
    {
     "data": {
      "text/plain": [
       "DatetimeIndex(['2004-09-01', '2004-09-01', '2004-09-01', '2004-09-01',\n",
       "               '2004-09-01', '2004-09-01', '2004-09-01', '2004-09-01',\n",
       "               '2004-09-01', '2004-12-01',\n",
       "               ...\n",
       "               '2019-06-01', '2019-06-01', '2019-06-01', '2019-06-01',\n",
       "               '2019-06-01', '2019-06-01', '2019-06-01', '2019-06-01',\n",
       "               '2019-06-01', '2019-06-01'],\n",
       "              dtype='datetime64[ns]', name='Date', length=3715, freq=None)"
      ]
     },
     "execution_count": 108,
     "metadata": {},
     "output_type": "execute_result"
    }
   ],
   "source": [
    "stocks.index + MonthEnd() #goes to the next available month end(minus goes to previous month end)\n",
    "stocks.index + MonthBegin() # goes to next month beginning(minus goes to previous month beginning)\n",
    "stocks.index + BMonthEnd() # next business day month end\n",
    "stocks.index - QuarterEnd() # previous end of quarter\n",
    "stocks.index + QuarterBegin() # first day of next quarter"
   ]
  },
  {
   "cell_type": "code",
   "execution_count": 111,
   "metadata": {},
   "outputs": [
    {
     "data": {
      "text/plain": [
       "DatetimeIndex(['2004-01-01', '2004-01-01', '2004-01-01', '2004-01-01',\n",
       "               '2004-01-01', '2004-01-01', '2004-01-01', '2004-01-01',\n",
       "               '2004-01-01', '2004-01-01',\n",
       "               ...\n",
       "               '2019-01-01', '2019-01-01', '2019-01-01', '2019-01-01',\n",
       "               '2019-01-01', '2019-01-01', '2019-01-01', '2019-01-01',\n",
       "               '2019-01-01', '2019-01-01'],\n",
       "              dtype='datetime64[ns]', name='Date', length=3715, freq=None)"
      ]
     },
     "execution_count": 111,
     "metadata": {},
     "output_type": "execute_result"
    }
   ],
   "source": [
    "stocks.index + YearEnd() # next end of year\n",
    "stocks.index - YearBegin() # previous year beginning"
   ]
  },
  {
   "cell_type": "markdown",
   "metadata": {},
   "source": [
    "# The pandas Timedelta Object"
   ]
  },
  {
   "cell_type": "code",
   "execution_count": 113,
   "metadata": {},
   "outputs": [],
   "source": [
    "# Timedelta is a duration whereas Timestamp is a specific instance in time"
   ]
  },
  {
   "cell_type": "code",
   "execution_count": 118,
   "metadata": {},
   "outputs": [],
   "source": [
    "timeA = pd.Timestamp(\"2016-03-31 04:35:16 PM\")"
   ]
  },
  {
   "cell_type": "code",
   "execution_count": 119,
   "metadata": {},
   "outputs": [],
   "source": [
    "timeB = pd.Timestamp(\"2016-03-20 02:16:49 AM\")"
   ]
  },
  {
   "cell_type": "code",
   "execution_count": 120,
   "metadata": {},
   "outputs": [
    {
     "data": {
      "text/plain": [
       "Timedelta('11 days 14:18:27')"
      ]
     },
     "execution_count": 120,
     "metadata": {},
     "output_type": "execute_result"
    }
   ],
   "source": [
    "timeA - timeB #returns a Timedelta object(telling us the difference in time / duration)"
   ]
  },
  {
   "cell_type": "code",
   "execution_count": 122,
   "metadata": {},
   "outputs": [
    {
     "data": {
      "text/plain": [
       "Timedelta('-12 days +09:41:33')"
      ]
     },
     "execution_count": 122,
     "metadata": {},
     "output_type": "execute_result"
    }
   ],
   "source": [
    "timeB - timeA #returns negative value if you subtract from an earlier date"
   ]
  },
  {
   "cell_type": "code",
   "execution_count": 128,
   "metadata": {},
   "outputs": [
    {
     "data": {
      "text/plain": [
       "Timedelta('59 days 12:45:00')"
      ]
     },
     "execution_count": 128,
     "metadata": {},
     "output_type": "execute_result"
    }
   ],
   "source": [
    "pd.Timedelta(days = 3, minutes = 45, hours = 12, weeks = 8) # creates a new pandas Timedelta object \n",
    "#'years' does not exist like in 'DateOffset'"
   ]
  },
  {
   "cell_type": "code",
   "execution_count": 135,
   "metadata": {},
   "outputs": [
    {
     "data": {
      "text/plain": [
       "Timedelta('3 days 06:00:12')"
      ]
     },
     "execution_count": 135,
     "metadata": {},
     "output_type": "execute_result"
    }
   ],
   "source": [
    "pd.Timedelta(\"6 hours 12 seconds 3 days\") # can use a string"
   ]
  },
  {
   "cell_type": "markdown",
   "metadata": {},
   "source": [
    "# Timedeltas in a Dataset"
   ]
  },
  {
   "cell_type": "code",
   "execution_count": 140,
   "metadata": {
    "scrolled": true
   },
   "outputs": [
    {
     "data": {
      "text/html": [
       "<div>\n",
       "<style scoped>\n",
       "    .dataframe tbody tr th:only-of-type {\n",
       "        vertical-align: middle;\n",
       "    }\n",
       "\n",
       "    .dataframe tbody tr th {\n",
       "        vertical-align: top;\n",
       "    }\n",
       "\n",
       "    .dataframe thead th {\n",
       "        text-align: right;\n",
       "    }\n",
       "</style>\n",
       "<table border=\"1\" class=\"dataframe\">\n",
       "  <thead>\n",
       "    <tr style=\"text-align: right;\">\n",
       "      <th></th>\n",
       "      <th>order_date</th>\n",
       "      <th>delivery_date</th>\n",
       "    </tr>\n",
       "    <tr>\n",
       "      <th>ID</th>\n",
       "      <th></th>\n",
       "      <th></th>\n",
       "    </tr>\n",
       "  </thead>\n",
       "  <tbody>\n",
       "    <tr>\n",
       "      <th>1</th>\n",
       "      <td>1998-05-24</td>\n",
       "      <td>1999-02-05</td>\n",
       "    </tr>\n",
       "    <tr>\n",
       "      <th>2</th>\n",
       "      <td>1992-04-22</td>\n",
       "      <td>1998-03-06</td>\n",
       "    </tr>\n",
       "    <tr>\n",
       "      <th>4</th>\n",
       "      <td>1991-02-10</td>\n",
       "      <td>1992-08-26</td>\n",
       "    </tr>\n",
       "  </tbody>\n",
       "</table>\n",
       "</div>"
      ],
      "text/plain": [
       "   order_date delivery_date\n",
       "ID                         \n",
       "1  1998-05-24    1999-02-05\n",
       "2  1992-04-22    1998-03-06\n",
       "4  1991-02-10    1992-08-26"
      ]
     },
     "execution_count": 140,
     "metadata": {},
     "output_type": "execute_result"
    }
   ],
   "source": [
    "shipping = pd.read_csv(\"ecommerce.csv\", index_col = \"ID\", parse_dates = [\"order_date\", \"delivery_date\"]) \n",
    "                                            #import info as DateTime Objects(using 'parse_dates')\n",
    "shipping.head(3)"
   ]
  },
  {
   "cell_type": "code",
   "execution_count": 143,
   "metadata": {},
   "outputs": [],
   "source": [
    "shipping[\"Delivery Time\"] = shipping[\"delivery_date\"] - shipping[\"order_date\"] # returns the amount of time b/w the order and the delivery dates(Timedeltas)\n",
    "#creates a new column in shipping DF"
   ]
  },
  {
   "cell_type": "code",
   "execution_count": 144,
   "metadata": {},
   "outputs": [
    {
     "data": {
      "text/html": [
       "<div>\n",
       "<style scoped>\n",
       "    .dataframe tbody tr th:only-of-type {\n",
       "        vertical-align: middle;\n",
       "    }\n",
       "\n",
       "    .dataframe tbody tr th {\n",
       "        vertical-align: top;\n",
       "    }\n",
       "\n",
       "    .dataframe thead th {\n",
       "        text-align: right;\n",
       "    }\n",
       "</style>\n",
       "<table border=\"1\" class=\"dataframe\">\n",
       "  <thead>\n",
       "    <tr style=\"text-align: right;\">\n",
       "      <th></th>\n",
       "      <th>order_date</th>\n",
       "      <th>delivery_date</th>\n",
       "      <th>Delivery Time</th>\n",
       "    </tr>\n",
       "    <tr>\n",
       "      <th>ID</th>\n",
       "      <th></th>\n",
       "      <th></th>\n",
       "      <th></th>\n",
       "    </tr>\n",
       "  </thead>\n",
       "  <tbody>\n",
       "    <tr>\n",
       "      <th>1</th>\n",
       "      <td>1998-05-24</td>\n",
       "      <td>1999-02-05</td>\n",
       "      <td>257 days</td>\n",
       "    </tr>\n",
       "    <tr>\n",
       "      <th>2</th>\n",
       "      <td>1992-04-22</td>\n",
       "      <td>1998-03-06</td>\n",
       "      <td>2144 days</td>\n",
       "    </tr>\n",
       "    <tr>\n",
       "      <th>4</th>\n",
       "      <td>1991-02-10</td>\n",
       "      <td>1992-08-26</td>\n",
       "      <td>563 days</td>\n",
       "    </tr>\n",
       "  </tbody>\n",
       "</table>\n",
       "</div>"
      ],
      "text/plain": [
       "   order_date delivery_date Delivery Time\n",
       "ID                                       \n",
       "1  1998-05-24    1999-02-05      257 days\n",
       "2  1992-04-22    1998-03-06     2144 days\n",
       "4  1991-02-10    1992-08-26      563 days"
      ]
     },
     "execution_count": 144,
     "metadata": {},
     "output_type": "execute_result"
    }
   ],
   "source": [
    "shipping.head(3)"
   ]
  },
  {
   "cell_type": "code",
   "execution_count": 147,
   "metadata": {},
   "outputs": [],
   "source": [
    "shipping[\"Twice as Long\"] = shipping[\"delivery_date\"] + shipping[\"Delivery Time\"] #Takes delivery date and adds it to delivery time(returns Datetime)\n",
    "# creates a new column"
   ]
  },
  {
   "cell_type": "code",
   "execution_count": 148,
   "metadata": {},
   "outputs": [
    {
     "data": {
      "text/html": [
       "<div>\n",
       "<style scoped>\n",
       "    .dataframe tbody tr th:only-of-type {\n",
       "        vertical-align: middle;\n",
       "    }\n",
       "\n",
       "    .dataframe tbody tr th {\n",
       "        vertical-align: top;\n",
       "    }\n",
       "\n",
       "    .dataframe thead th {\n",
       "        text-align: right;\n",
       "    }\n",
       "</style>\n",
       "<table border=\"1\" class=\"dataframe\">\n",
       "  <thead>\n",
       "    <tr style=\"text-align: right;\">\n",
       "      <th></th>\n",
       "      <th>order_date</th>\n",
       "      <th>delivery_date</th>\n",
       "      <th>Delivery Time</th>\n",
       "      <th>Twice as Long</th>\n",
       "    </tr>\n",
       "    <tr>\n",
       "      <th>ID</th>\n",
       "      <th></th>\n",
       "      <th></th>\n",
       "      <th></th>\n",
       "      <th></th>\n",
       "    </tr>\n",
       "  </thead>\n",
       "  <tbody>\n",
       "    <tr>\n",
       "      <th>1</th>\n",
       "      <td>1998-05-24</td>\n",
       "      <td>1999-02-05</td>\n",
       "      <td>257 days</td>\n",
       "      <td>1999-10-20</td>\n",
       "    </tr>\n",
       "    <tr>\n",
       "      <th>2</th>\n",
       "      <td>1992-04-22</td>\n",
       "      <td>1998-03-06</td>\n",
       "      <td>2144 days</td>\n",
       "      <td>2004-01-18</td>\n",
       "    </tr>\n",
       "    <tr>\n",
       "      <th>4</th>\n",
       "      <td>1991-02-10</td>\n",
       "      <td>1992-08-26</td>\n",
       "      <td>563 days</td>\n",
       "      <td>1994-03-12</td>\n",
       "    </tr>\n",
       "  </tbody>\n",
       "</table>\n",
       "</div>"
      ],
      "text/plain": [
       "   order_date delivery_date Delivery Time Twice as Long\n",
       "ID                                                     \n",
       "1  1998-05-24    1999-02-05      257 days    1999-10-20\n",
       "2  1992-04-22    1998-03-06     2144 days    2004-01-18\n",
       "4  1991-02-10    1992-08-26      563 days    1994-03-12"
      ]
     },
     "execution_count": 148,
     "metadata": {},
     "output_type": "execute_result"
    }
   ],
   "source": [
    "shipping.head(3)"
   ]
  },
  {
   "cell_type": "code",
   "execution_count": 152,
   "metadata": {},
   "outputs": [
    {
     "data": {
      "text/plain": [
       "order_date        datetime64[ns]\n",
       "delivery_date     datetime64[ns]\n",
       "Delivery Time    timedelta64[ns]\n",
       "Twice as Long     datetime64[ns]\n",
       "dtype: object"
      ]
     },
     "execution_count": 152,
     "metadata": {},
     "output_type": "execute_result"
    }
   ],
   "source": [
    "shipping.dtypes # returns column datatypes"
   ]
  },
  {
   "cell_type": "code",
   "execution_count": 154,
   "metadata": {},
   "outputs": [],
   "source": [
    "mask = shipping[\"Delivery Time\"] > \"365 Days\" #returns delivery times that took longer than given value / returns boolean"
   ]
  },
  {
   "cell_type": "code",
   "execution_count": 156,
   "metadata": {
    "collapsed": true
   },
   "outputs": [
    {
     "data": {
      "text/html": [
       "<div>\n",
       "<style scoped>\n",
       "    .dataframe tbody tr th:only-of-type {\n",
       "        vertical-align: middle;\n",
       "    }\n",
       "\n",
       "    .dataframe tbody tr th {\n",
       "        vertical-align: top;\n",
       "    }\n",
       "\n",
       "    .dataframe thead th {\n",
       "        text-align: right;\n",
       "    }\n",
       "</style>\n",
       "<table border=\"1\" class=\"dataframe\">\n",
       "  <thead>\n",
       "    <tr style=\"text-align: right;\">\n",
       "      <th></th>\n",
       "      <th>order_date</th>\n",
       "      <th>delivery_date</th>\n",
       "      <th>Delivery Time</th>\n",
       "      <th>Twice as Long</th>\n",
       "    </tr>\n",
       "    <tr>\n",
       "      <th>ID</th>\n",
       "      <th></th>\n",
       "      <th></th>\n",
       "      <th></th>\n",
       "      <th></th>\n",
       "    </tr>\n",
       "  </thead>\n",
       "  <tbody>\n",
       "    <tr>\n",
       "      <th>2</th>\n",
       "      <td>1992-04-22</td>\n",
       "      <td>1998-03-06</td>\n",
       "      <td>2144 days</td>\n",
       "      <td>2004-01-18</td>\n",
       "    </tr>\n",
       "    <tr>\n",
       "      <th>4</th>\n",
       "      <td>1991-02-10</td>\n",
       "      <td>1992-08-26</td>\n",
       "      <td>563 days</td>\n",
       "      <td>1994-03-12</td>\n",
       "    </tr>\n",
       "    <tr>\n",
       "      <th>5</th>\n",
       "      <td>1992-07-21</td>\n",
       "      <td>1997-11-20</td>\n",
       "      <td>1948 days</td>\n",
       "      <td>2003-03-22</td>\n",
       "    </tr>\n",
       "    <tr>\n",
       "      <th>7</th>\n",
       "      <td>1993-09-02</td>\n",
       "      <td>1998-06-10</td>\n",
       "      <td>1742 days</td>\n",
       "      <td>2003-03-18</td>\n",
       "    </tr>\n",
       "    <tr>\n",
       "      <th>9</th>\n",
       "      <td>1990-01-25</td>\n",
       "      <td>1994-10-02</td>\n",
       "      <td>1711 days</td>\n",
       "      <td>1999-06-09</td>\n",
       "    </tr>\n",
       "    <tr>\n",
       "      <th>10</th>\n",
       "      <td>1992-02-23</td>\n",
       "      <td>1998-12-30</td>\n",
       "      <td>2502 days</td>\n",
       "      <td>2005-11-05</td>\n",
       "    </tr>\n",
       "    <tr>\n",
       "      <th>11</th>\n",
       "      <td>1996-07-12</td>\n",
       "      <td>1997-07-14</td>\n",
       "      <td>367 days</td>\n",
       "      <td>1998-07-16</td>\n",
       "    </tr>\n",
       "    <tr>\n",
       "      <th>18</th>\n",
       "      <td>1995-06-18</td>\n",
       "      <td>1997-10-13</td>\n",
       "      <td>848 days</td>\n",
       "      <td>2000-02-08</td>\n",
       "    </tr>\n",
       "    <tr>\n",
       "      <th>20</th>\n",
       "      <td>1992-10-17</td>\n",
       "      <td>1998-10-06</td>\n",
       "      <td>2180 days</td>\n",
       "      <td>2004-09-24</td>\n",
       "    </tr>\n",
       "    <tr>\n",
       "      <th>23</th>\n",
       "      <td>1992-05-30</td>\n",
       "      <td>1999-08-15</td>\n",
       "      <td>2633 days</td>\n",
       "      <td>2006-10-30</td>\n",
       "    </tr>\n",
       "    <tr>\n",
       "      <th>26</th>\n",
       "      <td>1996-04-11</td>\n",
       "      <td>1998-05-04</td>\n",
       "      <td>753 days</td>\n",
       "      <td>2000-05-26</td>\n",
       "    </tr>\n",
       "    <tr>\n",
       "      <th>32</th>\n",
       "      <td>1990-01-20</td>\n",
       "      <td>1998-07-24</td>\n",
       "      <td>3107 days</td>\n",
       "      <td>2007-01-25</td>\n",
       "    </tr>\n",
       "    <tr>\n",
       "      <th>33</th>\n",
       "      <td>1994-09-21</td>\n",
       "      <td>1996-10-12</td>\n",
       "      <td>752 days</td>\n",
       "      <td>1998-11-03</td>\n",
       "    </tr>\n",
       "    <tr>\n",
       "      <th>35</th>\n",
       "      <td>1993-09-10</td>\n",
       "      <td>1996-04-28</td>\n",
       "      <td>961 days</td>\n",
       "      <td>1998-12-15</td>\n",
       "    </tr>\n",
       "    <tr>\n",
       "      <th>36</th>\n",
       "      <td>1990-05-15</td>\n",
       "      <td>1994-02-14</td>\n",
       "      <td>1371 days</td>\n",
       "      <td>1997-11-16</td>\n",
       "    </tr>\n",
       "    <tr>\n",
       "      <th>39</th>\n",
       "      <td>1990-03-26</td>\n",
       "      <td>1993-01-25</td>\n",
       "      <td>1036 days</td>\n",
       "      <td>1995-11-27</td>\n",
       "    </tr>\n",
       "    <tr>\n",
       "      <th>41</th>\n",
       "      <td>1992-02-06</td>\n",
       "      <td>1996-05-10</td>\n",
       "      <td>1555 days</td>\n",
       "      <td>2000-08-12</td>\n",
       "    </tr>\n",
       "    <tr>\n",
       "      <th>50</th>\n",
       "      <td>1991-05-03</td>\n",
       "      <td>1999-07-17</td>\n",
       "      <td>2997 days</td>\n",
       "      <td>2007-09-30</td>\n",
       "    </tr>\n",
       "    <tr>\n",
       "      <th>52</th>\n",
       "      <td>1994-09-02</td>\n",
       "      <td>1997-05-14</td>\n",
       "      <td>985 days</td>\n",
       "      <td>2000-01-24</td>\n",
       "    </tr>\n",
       "    <tr>\n",
       "      <th>53</th>\n",
       "      <td>1995-11-29</td>\n",
       "      <td>1998-06-23</td>\n",
       "      <td>937 days</td>\n",
       "      <td>2001-01-15</td>\n",
       "    </tr>\n",
       "    <tr>\n",
       "      <th>54</th>\n",
       "      <td>1996-08-07</td>\n",
       "      <td>1998-04-04</td>\n",
       "      <td>605 days</td>\n",
       "      <td>1999-11-30</td>\n",
       "    </tr>\n",
       "    <tr>\n",
       "      <th>60</th>\n",
       "      <td>1993-02-14</td>\n",
       "      <td>1995-08-06</td>\n",
       "      <td>903 days</td>\n",
       "      <td>1998-01-25</td>\n",
       "    </tr>\n",
       "    <tr>\n",
       "      <th>63</th>\n",
       "      <td>1990-12-22</td>\n",
       "      <td>1995-09-02</td>\n",
       "      <td>1715 days</td>\n",
       "      <td>2000-05-13</td>\n",
       "    </tr>\n",
       "    <tr>\n",
       "      <th>64</th>\n",
       "      <td>1990-11-25</td>\n",
       "      <td>1998-05-14</td>\n",
       "      <td>2727 days</td>\n",
       "      <td>2005-10-31</td>\n",
       "    </tr>\n",
       "    <tr>\n",
       "      <th>66</th>\n",
       "      <td>1992-09-08</td>\n",
       "      <td>1998-12-29</td>\n",
       "      <td>2303 days</td>\n",
       "      <td>2005-04-19</td>\n",
       "    </tr>\n",
       "    <tr>\n",
       "      <th>67</th>\n",
       "      <td>1990-05-04</td>\n",
       "      <td>1993-02-04</td>\n",
       "      <td>1007 days</td>\n",
       "      <td>1995-11-08</td>\n",
       "    </tr>\n",
       "    <tr>\n",
       "      <th>70</th>\n",
       "      <td>1994-02-16</td>\n",
       "      <td>1999-11-06</td>\n",
       "      <td>2089 days</td>\n",
       "      <td>2005-07-26</td>\n",
       "    </tr>\n",
       "    <tr>\n",
       "      <th>71</th>\n",
       "      <td>1990-11-25</td>\n",
       "      <td>1998-04-06</td>\n",
       "      <td>2689 days</td>\n",
       "      <td>2005-08-16</td>\n",
       "    </tr>\n",
       "    <tr>\n",
       "      <th>73</th>\n",
       "      <td>1991-10-01</td>\n",
       "      <td>1993-05-19</td>\n",
       "      <td>596 days</td>\n",
       "      <td>1995-01-05</td>\n",
       "    </tr>\n",
       "    <tr>\n",
       "      <th>75</th>\n",
       "      <td>1990-06-25</td>\n",
       "      <td>1996-12-18</td>\n",
       "      <td>2368 days</td>\n",
       "      <td>2003-06-13</td>\n",
       "    </tr>\n",
       "    <tr>\n",
       "      <th>...</th>\n",
       "      <td>...</td>\n",
       "      <td>...</td>\n",
       "      <td>...</td>\n",
       "      <td>...</td>\n",
       "    </tr>\n",
       "    <tr>\n",
       "      <th>907</th>\n",
       "      <td>1994-08-11</td>\n",
       "      <td>1998-09-28</td>\n",
       "      <td>1509 days</td>\n",
       "      <td>2002-11-15</td>\n",
       "    </tr>\n",
       "    <tr>\n",
       "      <th>908</th>\n",
       "      <td>1993-11-04</td>\n",
       "      <td>1997-02-26</td>\n",
       "      <td>1210 days</td>\n",
       "      <td>2000-06-20</td>\n",
       "    </tr>\n",
       "    <tr>\n",
       "      <th>909</th>\n",
       "      <td>1991-01-19</td>\n",
       "      <td>1998-08-22</td>\n",
       "      <td>2772 days</td>\n",
       "      <td>2006-03-25</td>\n",
       "    </tr>\n",
       "    <tr>\n",
       "      <th>916</th>\n",
       "      <td>1994-12-03</td>\n",
       "      <td>1997-03-26</td>\n",
       "      <td>844 days</td>\n",
       "      <td>1999-07-18</td>\n",
       "    </tr>\n",
       "    <tr>\n",
       "      <th>918</th>\n",
       "      <td>1994-12-29</td>\n",
       "      <td>1996-07-29</td>\n",
       "      <td>578 days</td>\n",
       "      <td>1998-02-27</td>\n",
       "    </tr>\n",
       "    <tr>\n",
       "      <th>919</th>\n",
       "      <td>1992-01-25</td>\n",
       "      <td>1993-06-01</td>\n",
       "      <td>493 days</td>\n",
       "      <td>1994-10-07</td>\n",
       "    </tr>\n",
       "    <tr>\n",
       "      <th>922</th>\n",
       "      <td>1996-07-06</td>\n",
       "      <td>1998-12-05</td>\n",
       "      <td>882 days</td>\n",
       "      <td>2001-05-05</td>\n",
       "    </tr>\n",
       "    <tr>\n",
       "      <th>924</th>\n",
       "      <td>1991-03-17</td>\n",
       "      <td>1996-05-13</td>\n",
       "      <td>1884 days</td>\n",
       "      <td>2001-07-10</td>\n",
       "    </tr>\n",
       "    <tr>\n",
       "      <th>926</th>\n",
       "      <td>1990-10-31</td>\n",
       "      <td>1994-04-12</td>\n",
       "      <td>1259 days</td>\n",
       "      <td>1997-09-22</td>\n",
       "    </tr>\n",
       "    <tr>\n",
       "      <th>935</th>\n",
       "      <td>1990-09-26</td>\n",
       "      <td>1998-03-07</td>\n",
       "      <td>2719 days</td>\n",
       "      <td>2005-08-16</td>\n",
       "    </tr>\n",
       "    <tr>\n",
       "      <th>938</th>\n",
       "      <td>1993-03-24</td>\n",
       "      <td>1995-07-15</td>\n",
       "      <td>843 days</td>\n",
       "      <td>1997-11-04</td>\n",
       "    </tr>\n",
       "    <tr>\n",
       "      <th>942</th>\n",
       "      <td>1992-04-14</td>\n",
       "      <td>1997-03-03</td>\n",
       "      <td>1784 days</td>\n",
       "      <td>2002-01-20</td>\n",
       "    </tr>\n",
       "    <tr>\n",
       "      <th>943</th>\n",
       "      <td>1991-01-30</td>\n",
       "      <td>1999-12-02</td>\n",
       "      <td>3228 days</td>\n",
       "      <td>2008-10-03</td>\n",
       "    </tr>\n",
       "    <tr>\n",
       "      <th>945</th>\n",
       "      <td>1992-10-27</td>\n",
       "      <td>1994-11-03</td>\n",
       "      <td>737 days</td>\n",
       "      <td>1996-11-09</td>\n",
       "    </tr>\n",
       "    <tr>\n",
       "      <th>946</th>\n",
       "      <td>1991-07-02</td>\n",
       "      <td>1996-02-23</td>\n",
       "      <td>1697 days</td>\n",
       "      <td>2000-10-16</td>\n",
       "    </tr>\n",
       "    <tr>\n",
       "      <th>947</th>\n",
       "      <td>1991-06-18</td>\n",
       "      <td>1999-06-11</td>\n",
       "      <td>2915 days</td>\n",
       "      <td>2007-06-04</td>\n",
       "    </tr>\n",
       "    <tr>\n",
       "      <th>951</th>\n",
       "      <td>1991-10-02</td>\n",
       "      <td>1994-04-18</td>\n",
       "      <td>929 days</td>\n",
       "      <td>1996-11-02</td>\n",
       "    </tr>\n",
       "    <tr>\n",
       "      <th>953</th>\n",
       "      <td>1991-09-26</td>\n",
       "      <td>1994-05-08</td>\n",
       "      <td>955 days</td>\n",
       "      <td>1996-12-18</td>\n",
       "    </tr>\n",
       "    <tr>\n",
       "      <th>956</th>\n",
       "      <td>1995-08-23</td>\n",
       "      <td>1999-01-10</td>\n",
       "      <td>1236 days</td>\n",
       "      <td>2002-05-30</td>\n",
       "    </tr>\n",
       "    <tr>\n",
       "      <th>957</th>\n",
       "      <td>1994-10-01</td>\n",
       "      <td>1999-07-25</td>\n",
       "      <td>1758 days</td>\n",
       "      <td>2004-05-17</td>\n",
       "    </tr>\n",
       "    <tr>\n",
       "      <th>958</th>\n",
       "      <td>1990-04-26</td>\n",
       "      <td>1997-06-29</td>\n",
       "      <td>2621 days</td>\n",
       "      <td>2004-09-01</td>\n",
       "    </tr>\n",
       "    <tr>\n",
       "      <th>972</th>\n",
       "      <td>1990-02-07</td>\n",
       "      <td>1995-11-05</td>\n",
       "      <td>2097 days</td>\n",
       "      <td>2001-08-02</td>\n",
       "    </tr>\n",
       "    <tr>\n",
       "      <th>981</th>\n",
       "      <td>1997-01-31</td>\n",
       "      <td>1998-03-04</td>\n",
       "      <td>397 days</td>\n",
       "      <td>1999-04-05</td>\n",
       "    </tr>\n",
       "    <tr>\n",
       "      <th>983</th>\n",
       "      <td>1994-12-30</td>\n",
       "      <td>1997-07-29</td>\n",
       "      <td>942 days</td>\n",
       "      <td>2000-02-26</td>\n",
       "    </tr>\n",
       "    <tr>\n",
       "      <th>984</th>\n",
       "      <td>1991-07-25</td>\n",
       "      <td>1999-02-09</td>\n",
       "      <td>2756 days</td>\n",
       "      <td>2006-08-27</td>\n",
       "    </tr>\n",
       "    <tr>\n",
       "      <th>986</th>\n",
       "      <td>1990-12-10</td>\n",
       "      <td>1992-12-16</td>\n",
       "      <td>737 days</td>\n",
       "      <td>1994-12-23</td>\n",
       "    </tr>\n",
       "    <tr>\n",
       "      <th>990</th>\n",
       "      <td>1991-06-24</td>\n",
       "      <td>1996-02-02</td>\n",
       "      <td>1684 days</td>\n",
       "      <td>2000-09-12</td>\n",
       "    </tr>\n",
       "    <tr>\n",
       "      <th>991</th>\n",
       "      <td>1991-09-09</td>\n",
       "      <td>1998-03-30</td>\n",
       "      <td>2394 days</td>\n",
       "      <td>2004-10-18</td>\n",
       "    </tr>\n",
       "    <tr>\n",
       "      <th>993</th>\n",
       "      <td>1990-11-16</td>\n",
       "      <td>1998-04-27</td>\n",
       "      <td>2719 days</td>\n",
       "      <td>2005-10-06</td>\n",
       "    </tr>\n",
       "    <tr>\n",
       "      <th>997</th>\n",
       "      <td>1990-01-04</td>\n",
       "      <td>1991-10-03</td>\n",
       "      <td>637 days</td>\n",
       "      <td>1993-07-01</td>\n",
       "    </tr>\n",
       "  </tbody>\n",
       "</table>\n",
       "<p>394 rows × 4 columns</p>\n",
       "</div>"
      ],
      "text/plain": [
       "    order_date delivery_date Delivery Time Twice as Long\n",
       "ID                                                      \n",
       "2   1992-04-22    1998-03-06     2144 days    2004-01-18\n",
       "4   1991-02-10    1992-08-26      563 days    1994-03-12\n",
       "5   1992-07-21    1997-11-20     1948 days    2003-03-22\n",
       "7   1993-09-02    1998-06-10     1742 days    2003-03-18\n",
       "9   1990-01-25    1994-10-02     1711 days    1999-06-09\n",
       "10  1992-02-23    1998-12-30     2502 days    2005-11-05\n",
       "11  1996-07-12    1997-07-14      367 days    1998-07-16\n",
       "18  1995-06-18    1997-10-13      848 days    2000-02-08\n",
       "20  1992-10-17    1998-10-06     2180 days    2004-09-24\n",
       "23  1992-05-30    1999-08-15     2633 days    2006-10-30\n",
       "26  1996-04-11    1998-05-04      753 days    2000-05-26\n",
       "32  1990-01-20    1998-07-24     3107 days    2007-01-25\n",
       "33  1994-09-21    1996-10-12      752 days    1998-11-03\n",
       "35  1993-09-10    1996-04-28      961 days    1998-12-15\n",
       "36  1990-05-15    1994-02-14     1371 days    1997-11-16\n",
       "39  1990-03-26    1993-01-25     1036 days    1995-11-27\n",
       "41  1992-02-06    1996-05-10     1555 days    2000-08-12\n",
       "50  1991-05-03    1999-07-17     2997 days    2007-09-30\n",
       "52  1994-09-02    1997-05-14      985 days    2000-01-24\n",
       "53  1995-11-29    1998-06-23      937 days    2001-01-15\n",
       "54  1996-08-07    1998-04-04      605 days    1999-11-30\n",
       "60  1993-02-14    1995-08-06      903 days    1998-01-25\n",
       "63  1990-12-22    1995-09-02     1715 days    2000-05-13\n",
       "64  1990-11-25    1998-05-14     2727 days    2005-10-31\n",
       "66  1992-09-08    1998-12-29     2303 days    2005-04-19\n",
       "67  1990-05-04    1993-02-04     1007 days    1995-11-08\n",
       "70  1994-02-16    1999-11-06     2089 days    2005-07-26\n",
       "71  1990-11-25    1998-04-06     2689 days    2005-08-16\n",
       "73  1991-10-01    1993-05-19      596 days    1995-01-05\n",
       "75  1990-06-25    1996-12-18     2368 days    2003-06-13\n",
       "..         ...           ...           ...           ...\n",
       "907 1994-08-11    1998-09-28     1509 days    2002-11-15\n",
       "908 1993-11-04    1997-02-26     1210 days    2000-06-20\n",
       "909 1991-01-19    1998-08-22     2772 days    2006-03-25\n",
       "916 1994-12-03    1997-03-26      844 days    1999-07-18\n",
       "918 1994-12-29    1996-07-29      578 days    1998-02-27\n",
       "919 1992-01-25    1993-06-01      493 days    1994-10-07\n",
       "922 1996-07-06    1998-12-05      882 days    2001-05-05\n",
       "924 1991-03-17    1996-05-13     1884 days    2001-07-10\n",
       "926 1990-10-31    1994-04-12     1259 days    1997-09-22\n",
       "935 1990-09-26    1998-03-07     2719 days    2005-08-16\n",
       "938 1993-03-24    1995-07-15      843 days    1997-11-04\n",
       "942 1992-04-14    1997-03-03     1784 days    2002-01-20\n",
       "943 1991-01-30    1999-12-02     3228 days    2008-10-03\n",
       "945 1992-10-27    1994-11-03      737 days    1996-11-09\n",
       "946 1991-07-02    1996-02-23     1697 days    2000-10-16\n",
       "947 1991-06-18    1999-06-11     2915 days    2007-06-04\n",
       "951 1991-10-02    1994-04-18      929 days    1996-11-02\n",
       "953 1991-09-26    1994-05-08      955 days    1996-12-18\n",
       "956 1995-08-23    1999-01-10     1236 days    2002-05-30\n",
       "957 1994-10-01    1999-07-25     1758 days    2004-05-17\n",
       "958 1990-04-26    1997-06-29     2621 days    2004-09-01\n",
       "972 1990-02-07    1995-11-05     2097 days    2001-08-02\n",
       "981 1997-01-31    1998-03-04      397 days    1999-04-05\n",
       "983 1994-12-30    1997-07-29      942 days    2000-02-26\n",
       "984 1991-07-25    1999-02-09     2756 days    2006-08-27\n",
       "986 1990-12-10    1992-12-16      737 days    1994-12-23\n",
       "990 1991-06-24    1996-02-02     1684 days    2000-09-12\n",
       "991 1991-09-09    1998-03-30     2394 days    2004-10-18\n",
       "993 1990-11-16    1998-04-27     2719 days    2005-10-06\n",
       "997 1990-01-04    1991-10-03      637 days    1993-07-01\n",
       "\n",
       "[394 rows x 4 columns]"
      ]
     },
     "execution_count": 156,
     "metadata": {},
     "output_type": "execute_result"
    }
   ],
   "source": [
    "shipping[mask] # returns orders that took more than a year"
   ]
  },
  {
   "cell_type": "code",
   "execution_count": 159,
   "metadata": {},
   "outputs": [
    {
     "data": {
      "text/plain": [
       "Timedelta('3583 days 00:00:00')"
      ]
     },
     "execution_count": 159,
     "metadata": {},
     "output_type": "execute_result"
    }
   ],
   "source": [
    "shipping[\"Delivery Time\"].max() # returns the longest/largest value in a given column (can use .mix() and others as well)"
   ]
  },
  {
   "cell_type": "code",
   "execution_count": null,
   "metadata": {},
   "outputs": [],
   "source": []
  },
  {
   "cell_type": "code",
   "execution_count": null,
   "metadata": {},
   "outputs": [],
   "source": []
  },
  {
   "cell_type": "code",
   "execution_count": null,
   "metadata": {},
   "outputs": [],
   "source": []
  },
  {
   "cell_type": "code",
   "execution_count": null,
   "metadata": {},
   "outputs": [],
   "source": []
  },
  {
   "cell_type": "code",
   "execution_count": null,
   "metadata": {},
   "outputs": [],
   "source": []
  },
  {
   "cell_type": "code",
   "execution_count": null,
   "metadata": {},
   "outputs": [],
   "source": []
  },
  {
   "cell_type": "code",
   "execution_count": null,
   "metadata": {},
   "outputs": [],
   "source": []
  },
  {
   "cell_type": "code",
   "execution_count": null,
   "metadata": {},
   "outputs": [],
   "source": []
  },
  {
   "cell_type": "code",
   "execution_count": null,
   "metadata": {},
   "outputs": [],
   "source": []
  },
  {
   "cell_type": "code",
   "execution_count": null,
   "metadata": {},
   "outputs": [],
   "source": []
  },
  {
   "cell_type": "code",
   "execution_count": null,
   "metadata": {},
   "outputs": [],
   "source": []
  },
  {
   "cell_type": "code",
   "execution_count": null,
   "metadata": {},
   "outputs": [],
   "source": []
  },
  {
   "cell_type": "code",
   "execution_count": null,
   "metadata": {},
   "outputs": [],
   "source": []
  },
  {
   "cell_type": "code",
   "execution_count": null,
   "metadata": {},
   "outputs": [],
   "source": []
  },
  {
   "cell_type": "code",
   "execution_count": null,
   "metadata": {},
   "outputs": [],
   "source": []
  },
  {
   "cell_type": "code",
   "execution_count": null,
   "metadata": {},
   "outputs": [],
   "source": []
  },
  {
   "cell_type": "code",
   "execution_count": null,
   "metadata": {},
   "outputs": [],
   "source": []
  },
  {
   "cell_type": "code",
   "execution_count": null,
   "metadata": {},
   "outputs": [],
   "source": []
  },
  {
   "cell_type": "code",
   "execution_count": null,
   "metadata": {},
   "outputs": [],
   "source": []
  },
  {
   "cell_type": "code",
   "execution_count": null,
   "metadata": {},
   "outputs": [],
   "source": []
  },
  {
   "cell_type": "code",
   "execution_count": null,
   "metadata": {},
   "outputs": [],
   "source": []
  },
  {
   "cell_type": "code",
   "execution_count": null,
   "metadata": {},
   "outputs": [],
   "source": []
  },
  {
   "cell_type": "code",
   "execution_count": null,
   "metadata": {},
   "outputs": [],
   "source": []
  },
  {
   "cell_type": "code",
   "execution_count": null,
   "metadata": {},
   "outputs": [],
   "source": []
  },
  {
   "cell_type": "code",
   "execution_count": null,
   "metadata": {},
   "outputs": [],
   "source": []
  },
  {
   "cell_type": "code",
   "execution_count": null,
   "metadata": {},
   "outputs": [],
   "source": []
  },
  {
   "cell_type": "code",
   "execution_count": null,
   "metadata": {},
   "outputs": [],
   "source": []
  },
  {
   "cell_type": "code",
   "execution_count": null,
   "metadata": {},
   "outputs": [],
   "source": []
  },
  {
   "cell_type": "code",
   "execution_count": null,
   "metadata": {},
   "outputs": [],
   "source": []
  },
  {
   "cell_type": "code",
   "execution_count": null,
   "metadata": {},
   "outputs": [],
   "source": []
  },
  {
   "cell_type": "code",
   "execution_count": null,
   "metadata": {},
   "outputs": [],
   "source": []
  },
  {
   "cell_type": "code",
   "execution_count": null,
   "metadata": {},
   "outputs": [],
   "source": []
  },
  {
   "cell_type": "code",
   "execution_count": null,
   "metadata": {},
   "outputs": [],
   "source": []
  },
  {
   "cell_type": "code",
   "execution_count": null,
   "metadata": {},
   "outputs": [],
   "source": []
  },
  {
   "cell_type": "code",
   "execution_count": null,
   "metadata": {},
   "outputs": [],
   "source": []
  },
  {
   "cell_type": "code",
   "execution_count": null,
   "metadata": {},
   "outputs": [],
   "source": []
  },
  {
   "cell_type": "code",
   "execution_count": null,
   "metadata": {},
   "outputs": [],
   "source": []
  },
  {
   "cell_type": "code",
   "execution_count": null,
   "metadata": {},
   "outputs": [],
   "source": []
  }
 ],
 "metadata": {
  "kernelspec": {
   "display_name": "Python 3",
   "language": "python",
   "name": "python3"
  },
  "language_info": {
   "codemirror_mode": {
    "name": "ipython",
    "version": 3
   },
   "file_extension": ".py",
   "mimetype": "text/x-python",
   "name": "python",
   "nbconvert_exporter": "python",
   "pygments_lexer": "ipython3",
   "version": "3.7.3"
  }
 },
 "nbformat": 4,
 "nbformat_minor": 2
}
